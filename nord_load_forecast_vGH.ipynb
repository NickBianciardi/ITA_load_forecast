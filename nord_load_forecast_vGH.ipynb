{
 "cells": [
  {
   "cell_type": "code",
   "execution_count": 1,
   "id": "2b83364d",
   "metadata": {},
   "outputs": [],
   "source": [
    "def get_load_data_from_TERNA(start_extr = '2019-01-01', end_extr = 'today', delay=1, bidding_zone = 'Nord'):\n",
    "    \n",
    "    print(f'START: {start_extr} - END: {end_extr} for {bidding_zone} bidding zone')\n",
    "    start_function = time.time()\n",
    "    \n",
    "    # obtain token to access Terna's API\n",
    "    key = 'YOUR KEY'\n",
    "    secret = 'YOUR SECRET'\n",
    "\n",
    "    token_url = \"https://api.terna.it/public-api/access-token\"\n",
    "    \n",
    "    token_payload = {'client_id': 'YOUR CLIENT ID',\n",
    "                     'client_secret': 'YOUR CLIENT SECRET',\n",
    "                     'grant_type': 'client_credentials'}\n",
    "    \n",
    "    token_headers = {'Content-Type': 'application/x-www-form-urlencoded'}\n",
    "\n",
    "    token_response = requests.post(token_url, headers=token_headers, data=token_payload)\n",
    "    token_data = token_response.json()\n",
    "\n",
    "    if 'access_token' not in token_data:\n",
    "        print(\"Failed to obtain access token\")\n",
    "        exit()\n",
    "\n",
    "    access_token = token_data['access_token']\n",
    "    \n",
    "    print(f'Access token: {access_token} \\n')\n",
    "    \n",
    "    time.sleep(3)\n",
    "    \n",
    "        # define how far back in time we want to go\n",
    "    latest = pd.to_datetime(end_extr).date()\n",
    "    earliest = pd.to_datetime(start_extr).date()\n",
    "    date_span = pd.date_range(earliest, latest, freq='D')\n",
    "    \n",
    "    tmp = []\n",
    "    wind_data = pd.DataFrame()\n",
    "    \n",
    "    chunk_size = 60\n",
    "    u = 0\n",
    "    while u < len(date_span):\n",
    "        chunk_dates = date_span[u:u + chunk_size]\n",
    "        if len(chunk_dates) > 0:\n",
    "            \n",
    "            url = f\"https://api.terna.it/transparency/v1.0/gettotalload?dateFrom={chunk_dates.min().strftime('%d/%m/%Y')}&dateTo={chunk_dates.max().strftime('%d/%m/%Y')}&biddingZone={bidding_zone}\"\n",
    "\n",
    "            payload = {}\n",
    "            headers = {'Authorization': f'Bearer {access_token}'}\n",
    "            \n",
    "            response = requests.request(\"GET\", url, headers=headers, data=payload)\n",
    "            \n",
    "            if response.status_code==200:\n",
    "                data = response.json()\n",
    "                df_tmp = pd.DataFrame(data['totalLoad'])\n",
    "                tmp.append(df_tmp)\n",
    "            else:\n",
    "                print('Error', response.text)\n",
    "            \n",
    "            print(chunk_dates.min().strftime('%d/%m/%Y'), chunk_dates.max().strftime('%d/%m/%Y'))\n",
    "        \n",
    "        time.sleep(delay)\n",
    "        u += chunk_size\n",
    "    source_data = pd.concat(tmp)\n",
    "    \n",
    "    end_function = time.time()\n",
    "    elapsed_time = end_function - start_function\n",
    "    print(f'Time taken to retrieve {len(source_data)} rows of load data: {int(elapsed_time)}s')\n",
    "    \n",
    "    return source_data\n",
    "\n",
    "def parsing_load_data(df):\n",
    "    df.dropna(inplace=True)\n",
    "    df['Date'] = pd.to_datetime(load['Date'])\n",
    "    df.rename(columns={'Total_Load_MW':'mw', 'Bidding_Zone':'area'}, inplace=True)\n",
    "    df['mw'] = df.mw.astype('float')\n",
    "    df['mwh'] = df.mw/4\n",
    "    df.drop(columns=['Forecast_Total_Load_MW', 'mw'], inplace=True)\n",
    "    df['month'] = df['Date'].dt.month\n",
    "    df['time'] = df['Date'].dt.hour\n",
    "    df['day'] = df['Date'].dt.date\n",
    "    df['day_of_week'] = df.Date.dt.dayofweek\n",
    "    df['is_saturday'] = False\n",
    "    df.loc[df.day_of_week==5, 'is_saturday'] = True \n",
    "    df['is_sunday'] = False\n",
    "    df.loc[df.day_of_week==6, 'is_sunday'] = True \n",
    "    it_holidays = holidays.Italy(years = df.Date.dt.year.unique()).keys()\n",
    "    df['flg_holiday'] = False\n",
    "    df.loc[df.day.isin(it_holidays), 'flg_holiday'] = True\n",
    "    \n",
    "    return df\n",
    "\n",
    "def calculate_lags(df, n_lags=30, n_lags_w=15, type_ ='load'):\n",
    "    span = range(24,24*n_lags,24)\n",
    "    if type_ == 'load':\n",
    "        for i in span:\n",
    "            df[f'mwh_{int(i/24)}_before'] = df.mwh.shift(i)\n",
    "    elif type_ == 'weather':\n",
    "        span_w = range(24,24*n_lags_w,24)\n",
    "        for i in span_w:\n",
    "            df[f'temp_{int(i/24)}_before'] = df.temp.shift(i)\n",
    "    else:\n",
    "        print('Select a compatible type for the right kind of data you want to generate lagged values for (load or weather)')\n",
    "    \n",
    "    return df\n",
    "\n",
    "def calculate_monthly_hourly_quantiles(df):\n",
    "    quantiles = []\n",
    "\n",
    "    for month in range(1,13):\n",
    "        tmp = df[(df.month==month)]\n",
    "\n",
    "        for hour in range(0,24):\n",
    "            tmp_h = tmp[tmp.time==hour]\n",
    "            for i in range(1, 11, 1):\n",
    "                quant = tmp_h['mwh'].quantile(i/10)\n",
    "                tmp_list = [month, hour, i, quant]\n",
    "                quantiles.append(tmp_list)\n",
    "\n",
    "    quantiles = pd.DataFrame(quantiles, columns=['month', 'time', 'quant_order', 'quant_value'])\n",
    "    \n",
    "    return quantiles\n",
    "\n",
    "def calculate_residuals(forecast, actual):\n",
    "    residuals = forecast.mwh-actual.mwh\n",
    "    avg_residuals = residuals.mean()\n",
    "    print(f'Average residual: {avg_residuals}')\n",
    "    \n",
    "    plt.figure(figsize=(13,6))\n",
    "    plt.plot(residuals)\n",
    "    plt.show()\n",
    "    return residuals, avg_residuals"
   ]
  },
  {
   "cell_type": "code",
   "execution_count": 2,
   "id": "ad60c664",
   "metadata": {},
   "outputs": [],
   "source": [
    "def get_weather_data(start, stop):\n",
    "    cache_session = requests_cache.CachedSession('.cache', expire_after = -1)\n",
    "    retry_session = retry(cache_session, retries = 5, backoff_factor = 0.2)\n",
    "    openmeteo = openmeteo_requests.Client(session = retry_session)  \n",
    "    \n",
    "    url = \"https://archive-api.open-meteo.com/v1/archive\"\n",
    "    \n",
    "    params = {\n",
    "        \"latitude\": 45.4643,\n",
    "        \"longitude\": 9.1895,\n",
    "        \"start_date\": start,\n",
    "        \"end_date\": stop,\n",
    "        \"hourly\": [\"temperature_2m\", \"rain\"],        \n",
    "        \"timezone\": \"auto\"\n",
    "    }\n",
    "    responses = openmeteo.weather_api(url, params=params)\n",
    "    \n",
    "    response = responses[0]\n",
    "    print(f\"Coordinates {response.Latitude()}°N {response.Longitude()}°E\")\n",
    "    print(f\"Timezone {response.Timezone()} {response.TimezoneAbbreviation()}\")\n",
    "    \n",
    "    \n",
    "    data = response.Hourly()\n",
    "    data_temperature_2m = data.Variables(0).ValuesAsNumpy()\n",
    "    data_rain = data.Variables(1).ValuesAsNumpy()\n",
    "\n",
    "    data = {\"date\": pd.date_range(\n",
    "        start = pd.to_datetime(data.Time(), unit = \"s\", utc = True),\n",
    "        end = pd.to_datetime(data.TimeEnd(), unit = \"s\", utc = True),\n",
    "        freq = pd.Timedelta(seconds = data.Interval()),\n",
    "        inclusive = \"left\"\n",
    "    )}\n",
    "    data[\"temperature_2m\"] = data_temperature_2m\n",
    "    data[\"rain\"] = data_rain\n",
    "\n",
    "    data_df = pd.DataFrame(data = data)\n",
    "    \n",
    "    return data_df"
   ]
  },
  {
   "cell_type": "code",
   "execution_count": 3,
   "id": "b88ec7ec",
   "metadata": {},
   "outputs": [],
   "source": [
    "# %pip install openmeteo-requests\n",
    "# %pip install requests-cache retry-requests "
   ]
  },
  {
   "cell_type": "code",
   "execution_count": 4,
   "id": "f493a147",
   "metadata": {},
   "outputs": [],
   "source": [
    "import pandas as pd\n",
    "import numpy as np\n",
    "import requests\n",
    "import time\n",
    "import matplotlib.pyplot as plt\n",
    "# %pip install holidays\n",
    "import holidays\n",
    "import warnings\n",
    "warnings.filterwarnings(\"ignore\")\n",
    "\n",
    "import openmeteo_requests\n",
    "import requests_cache\n",
    "from retry_requests import retry"
   ]
  },
  {
   "cell_type": "code",
   "execution_count": 5,
   "id": "0a3d784a",
   "metadata": {},
   "outputs": [],
   "source": [
    "plt.rcParams['figure.figsize'] = (13,5)"
   ]
  },
  {
   "cell_type": "markdown",
   "id": "71f86c7c",
   "metadata": {},
   "source": [
    "## Retrieve weather data with OpenMeteo API"
   ]
  },
  {
   "cell_type": "code",
   "execution_count": 6,
   "id": "7dd0dce3",
   "metadata": {},
   "outputs": [
    {
     "data": {
      "text/plain": [
       "Timestamp('2024-06-06 00:00:00')"
      ]
     },
     "execution_count": 6,
     "metadata": {},
     "output_type": "execute_result"
    }
   ],
   "source": [
    "start_date = '2021-01-01'\n",
    "target_date = pd.to_datetime('today').date() + pd.DateOffset(days=0)\n",
    "target_date"
   ]
  },
  {
   "cell_type": "code",
   "execution_count": 7,
   "id": "bd50558d",
   "metadata": {},
   "outputs": [
    {
     "name": "stdout",
     "output_type": "stream",
     "text": [
      "Coordinates 45.44815444946289°N 9.169279098510742°E\n",
      "Timezone b'Europe/Rome' b'CEST'\n"
     ]
    }
   ],
   "source": [
    "weather_data = get_weather_data(start_date, target_date.strftime('%Y-%m-%d'))"
   ]
  },
  {
   "cell_type": "code",
   "execution_count": 8,
   "id": "ee53f3f4",
   "metadata": {},
   "outputs": [],
   "source": [
    "if weather_data.isna().sum().sum() != 0:\n",
    "    while weather_data.isna().sum().sum() != 0:\n",
    "        [weather_data[col].fillna(weather_data[col].shift(24), inplace=True) for col in weather_data.columns]\n",
    "else:\n",
    "    print('There are 0 NaNs to be filled')"
   ]
  },
  {
   "cell_type": "code",
   "execution_count": 9,
   "id": "c1f485f4",
   "metadata": {},
   "outputs": [
    {
     "data": {
      "text/html": [
       "<div>\n",
       "<style scoped>\n",
       "    .dataframe tbody tr th:only-of-type {\n",
       "        vertical-align: middle;\n",
       "    }\n",
       "\n",
       "    .dataframe tbody tr th {\n",
       "        vertical-align: top;\n",
       "    }\n",
       "\n",
       "    .dataframe thead th {\n",
       "        text-align: right;\n",
       "    }\n",
       "</style>\n",
       "<table border=\"1\" class=\"dataframe\">\n",
       "  <thead>\n",
       "    <tr style=\"text-align: right;\">\n",
       "      <th></th>\n",
       "      <th>date</th>\n",
       "      <th>temperature_2m</th>\n",
       "      <th>rain</th>\n",
       "    </tr>\n",
       "  </thead>\n",
       "  <tbody>\n",
       "    <tr>\n",
       "      <th>0</th>\n",
       "      <td>2020-12-31 22:00:00+00:00</td>\n",
       "      <td>-1.273000</td>\n",
       "      <td>0.0</td>\n",
       "    </tr>\n",
       "    <tr>\n",
       "      <th>1</th>\n",
       "      <td>2020-12-31 23:00:00+00:00</td>\n",
       "      <td>-1.123000</td>\n",
       "      <td>0.0</td>\n",
       "    </tr>\n",
       "    <tr>\n",
       "      <th>2</th>\n",
       "      <td>2021-01-01 00:00:00+00:00</td>\n",
       "      <td>-0.023000</td>\n",
       "      <td>0.0</td>\n",
       "    </tr>\n",
       "    <tr>\n",
       "      <th>3</th>\n",
       "      <td>2021-01-01 01:00:00+00:00</td>\n",
       "      <td>0.127000</td>\n",
       "      <td>0.0</td>\n",
       "    </tr>\n",
       "    <tr>\n",
       "      <th>4</th>\n",
       "      <td>2021-01-01 02:00:00+00:00</td>\n",
       "      <td>0.327000</td>\n",
       "      <td>0.0</td>\n",
       "    </tr>\n",
       "    <tr>\n",
       "      <th>...</th>\n",
       "      <td>...</td>\n",
       "      <td>...</td>\n",
       "      <td>...</td>\n",
       "    </tr>\n",
       "    <tr>\n",
       "      <th>30067</th>\n",
       "      <td>2024-06-06 17:00:00+00:00</td>\n",
       "      <td>20.126999</td>\n",
       "      <td>0.0</td>\n",
       "    </tr>\n",
       "    <tr>\n",
       "      <th>30068</th>\n",
       "      <td>2024-06-06 18:00:00+00:00</td>\n",
       "      <td>19.927000</td>\n",
       "      <td>0.0</td>\n",
       "    </tr>\n",
       "    <tr>\n",
       "      <th>30069</th>\n",
       "      <td>2024-06-06 19:00:00+00:00</td>\n",
       "      <td>17.976999</td>\n",
       "      <td>0.0</td>\n",
       "    </tr>\n",
       "    <tr>\n",
       "      <th>30070</th>\n",
       "      <td>2024-06-06 20:00:00+00:00</td>\n",
       "      <td>17.126999</td>\n",
       "      <td>0.0</td>\n",
       "    </tr>\n",
       "    <tr>\n",
       "      <th>30071</th>\n",
       "      <td>2024-06-06 21:00:00+00:00</td>\n",
       "      <td>16.177000</td>\n",
       "      <td>0.0</td>\n",
       "    </tr>\n",
       "  </tbody>\n",
       "</table>\n",
       "<p>30072 rows × 3 columns</p>\n",
       "</div>"
      ],
      "text/plain": [
       "                           date  temperature_2m  rain\n",
       "0     2020-12-31 22:00:00+00:00       -1.273000   0.0\n",
       "1     2020-12-31 23:00:00+00:00       -1.123000   0.0\n",
       "2     2021-01-01 00:00:00+00:00       -0.023000   0.0\n",
       "3     2021-01-01 01:00:00+00:00        0.127000   0.0\n",
       "4     2021-01-01 02:00:00+00:00        0.327000   0.0\n",
       "...                         ...             ...   ...\n",
       "30067 2024-06-06 17:00:00+00:00       20.126999   0.0\n",
       "30068 2024-06-06 18:00:00+00:00       19.927000   0.0\n",
       "30069 2024-06-06 19:00:00+00:00       17.976999   0.0\n",
       "30070 2024-06-06 20:00:00+00:00       17.126999   0.0\n",
       "30071 2024-06-06 21:00:00+00:00       16.177000   0.0\n",
       "\n",
       "[30072 rows x 3 columns]"
      ]
     },
     "execution_count": 9,
     "metadata": {},
     "output_type": "execute_result"
    }
   ],
   "source": [
    "weather_data"
   ]
  },
  {
   "cell_type": "code",
   "execution_count": 10,
   "id": "dee8a730",
   "metadata": {},
   "outputs": [],
   "source": [
    "weather_data['day'] = weather_data['date'].dt.date\n",
    "weather_data['day'] = pd.to_datetime(weather_data['day'])\n",
    "weather_data['month'] = weather_data['date'].dt.month\n",
    "weather_data['time'] = weather_data['date'].dt.hour\n",
    "weather_data['date'] = weather_data['date'].dt.tz_localize(None)"
   ]
  },
  {
   "cell_type": "code",
   "execution_count": 11,
   "id": "fa4e3e28",
   "metadata": {},
   "outputs": [
    {
     "data": {
      "text/html": [
       "<div>\n",
       "<style scoped>\n",
       "    .dataframe tbody tr th:only-of-type {\n",
       "        vertical-align: middle;\n",
       "    }\n",
       "\n",
       "    .dataframe tbody tr th {\n",
       "        vertical-align: top;\n",
       "    }\n",
       "\n",
       "    .dataframe thead th {\n",
       "        text-align: right;\n",
       "    }\n",
       "</style>\n",
       "<table border=\"1\" class=\"dataframe\">\n",
       "  <thead>\n",
       "    <tr style=\"text-align: right;\">\n",
       "      <th></th>\n",
       "      <th>date</th>\n",
       "      <th>day</th>\n",
       "      <th>month</th>\n",
       "      <th>time</th>\n",
       "      <th>temperature_2m</th>\n",
       "    </tr>\n",
       "  </thead>\n",
       "  <tbody>\n",
       "    <tr>\n",
       "      <th>0</th>\n",
       "      <td>2020-12-31 22:00:00</td>\n",
       "      <td>2020-12-31</td>\n",
       "      <td>12</td>\n",
       "      <td>22</td>\n",
       "      <td>-1.273000</td>\n",
       "    </tr>\n",
       "    <tr>\n",
       "      <th>1</th>\n",
       "      <td>2020-12-31 23:00:00</td>\n",
       "      <td>2020-12-31</td>\n",
       "      <td>12</td>\n",
       "      <td>23</td>\n",
       "      <td>-1.123000</td>\n",
       "    </tr>\n",
       "    <tr>\n",
       "      <th>2</th>\n",
       "      <td>2021-01-01 00:00:00</td>\n",
       "      <td>2021-01-01</td>\n",
       "      <td>1</td>\n",
       "      <td>0</td>\n",
       "      <td>-0.023000</td>\n",
       "    </tr>\n",
       "    <tr>\n",
       "      <th>3</th>\n",
       "      <td>2021-01-01 01:00:00</td>\n",
       "      <td>2021-01-01</td>\n",
       "      <td>1</td>\n",
       "      <td>1</td>\n",
       "      <td>0.127000</td>\n",
       "    </tr>\n",
       "    <tr>\n",
       "      <th>4</th>\n",
       "      <td>2021-01-01 02:00:00</td>\n",
       "      <td>2021-01-01</td>\n",
       "      <td>1</td>\n",
       "      <td>2</td>\n",
       "      <td>0.327000</td>\n",
       "    </tr>\n",
       "    <tr>\n",
       "      <th>...</th>\n",
       "      <td>...</td>\n",
       "      <td>...</td>\n",
       "      <td>...</td>\n",
       "      <td>...</td>\n",
       "      <td>...</td>\n",
       "    </tr>\n",
       "    <tr>\n",
       "      <th>30067</th>\n",
       "      <td>2024-06-06 17:00:00</td>\n",
       "      <td>2024-06-06</td>\n",
       "      <td>6</td>\n",
       "      <td>17</td>\n",
       "      <td>20.126999</td>\n",
       "    </tr>\n",
       "    <tr>\n",
       "      <th>30068</th>\n",
       "      <td>2024-06-06 18:00:00</td>\n",
       "      <td>2024-06-06</td>\n",
       "      <td>6</td>\n",
       "      <td>18</td>\n",
       "      <td>19.927000</td>\n",
       "    </tr>\n",
       "    <tr>\n",
       "      <th>30069</th>\n",
       "      <td>2024-06-06 19:00:00</td>\n",
       "      <td>2024-06-06</td>\n",
       "      <td>6</td>\n",
       "      <td>19</td>\n",
       "      <td>17.976999</td>\n",
       "    </tr>\n",
       "    <tr>\n",
       "      <th>30070</th>\n",
       "      <td>2024-06-06 20:00:00</td>\n",
       "      <td>2024-06-06</td>\n",
       "      <td>6</td>\n",
       "      <td>20</td>\n",
       "      <td>17.126999</td>\n",
       "    </tr>\n",
       "    <tr>\n",
       "      <th>30071</th>\n",
       "      <td>2024-06-06 21:00:00</td>\n",
       "      <td>2024-06-06</td>\n",
       "      <td>6</td>\n",
       "      <td>21</td>\n",
       "      <td>16.177000</td>\n",
       "    </tr>\n",
       "  </tbody>\n",
       "</table>\n",
       "<p>30072 rows × 5 columns</p>\n",
       "</div>"
      ],
      "text/plain": [
       "                     date        day  month  time  temperature_2m\n",
       "0     2020-12-31 22:00:00 2020-12-31     12    22       -1.273000\n",
       "1     2020-12-31 23:00:00 2020-12-31     12    23       -1.123000\n",
       "2     2021-01-01 00:00:00 2021-01-01      1     0       -0.023000\n",
       "3     2021-01-01 01:00:00 2021-01-01      1     1        0.127000\n",
       "4     2021-01-01 02:00:00 2021-01-01      1     2        0.327000\n",
       "...                   ...        ...    ...   ...             ...\n",
       "30067 2024-06-06 17:00:00 2024-06-06      6    17       20.126999\n",
       "30068 2024-06-06 18:00:00 2024-06-06      6    18       19.927000\n",
       "30069 2024-06-06 19:00:00 2024-06-06      6    19       17.976999\n",
       "30070 2024-06-06 20:00:00 2024-06-06      6    20       17.126999\n",
       "30071 2024-06-06 21:00:00 2024-06-06      6    21       16.177000\n",
       "\n",
       "[30072 rows x 5 columns]"
      ]
     },
     "execution_count": 11,
     "metadata": {},
     "output_type": "execute_result"
    }
   ],
   "source": [
    "weather_data = weather_data[['date', 'day', 'month', 'time', 'temperature_2m']]\n",
    "weather_data"
   ]
  },
  {
   "cell_type": "code",
   "execution_count": 12,
   "id": "5e3d6af8",
   "metadata": {},
   "outputs": [
    {
     "data": {
      "text/html": [
       "<div>\n",
       "<style scoped>\n",
       "    .dataframe tbody tr th:only-of-type {\n",
       "        vertical-align: middle;\n",
       "    }\n",
       "\n",
       "    .dataframe tbody tr th {\n",
       "        vertical-align: top;\n",
       "    }\n",
       "\n",
       "    .dataframe thead th {\n",
       "        text-align: right;\n",
       "    }\n",
       "</style>\n",
       "<table border=\"1\" class=\"dataframe\">\n",
       "  <thead>\n",
       "    <tr style=\"text-align: right;\">\n",
       "      <th></th>\n",
       "      <th>date</th>\n",
       "      <th>day</th>\n",
       "      <th>month</th>\n",
       "      <th>time</th>\n",
       "    </tr>\n",
       "  </thead>\n",
       "  <tbody>\n",
       "    <tr>\n",
       "      <th>0</th>\n",
       "      <td>2021-01-01 00:00:00</td>\n",
       "      <td>2021-01-01</td>\n",
       "      <td>1</td>\n",
       "      <td>0</td>\n",
       "    </tr>\n",
       "    <tr>\n",
       "      <th>1</th>\n",
       "      <td>2021-01-01 01:00:00</td>\n",
       "      <td>2021-01-01</td>\n",
       "      <td>1</td>\n",
       "      <td>1</td>\n",
       "    </tr>\n",
       "    <tr>\n",
       "      <th>2</th>\n",
       "      <td>2021-01-01 02:00:00</td>\n",
       "      <td>2021-01-01</td>\n",
       "      <td>1</td>\n",
       "      <td>2</td>\n",
       "    </tr>\n",
       "    <tr>\n",
       "      <th>3</th>\n",
       "      <td>2021-01-01 03:00:00</td>\n",
       "      <td>2021-01-01</td>\n",
       "      <td>1</td>\n",
       "      <td>3</td>\n",
       "    </tr>\n",
       "    <tr>\n",
       "      <th>4</th>\n",
       "      <td>2021-01-01 04:00:00</td>\n",
       "      <td>2021-01-01</td>\n",
       "      <td>1</td>\n",
       "      <td>4</td>\n",
       "    </tr>\n",
       "    <tr>\n",
       "      <th>...</th>\n",
       "      <td>...</td>\n",
       "      <td>...</td>\n",
       "      <td>...</td>\n",
       "      <td>...</td>\n",
       "    </tr>\n",
       "    <tr>\n",
       "      <th>30067</th>\n",
       "      <td>2024-06-06 19:00:00</td>\n",
       "      <td>2024-06-06</td>\n",
       "      <td>6</td>\n",
       "      <td>19</td>\n",
       "    </tr>\n",
       "    <tr>\n",
       "      <th>30068</th>\n",
       "      <td>2024-06-06 20:00:00</td>\n",
       "      <td>2024-06-06</td>\n",
       "      <td>6</td>\n",
       "      <td>20</td>\n",
       "    </tr>\n",
       "    <tr>\n",
       "      <th>30069</th>\n",
       "      <td>2024-06-06 21:00:00</td>\n",
       "      <td>2024-06-06</td>\n",
       "      <td>6</td>\n",
       "      <td>21</td>\n",
       "    </tr>\n",
       "    <tr>\n",
       "      <th>30070</th>\n",
       "      <td>2024-06-06 22:00:00</td>\n",
       "      <td>2024-06-06</td>\n",
       "      <td>6</td>\n",
       "      <td>22</td>\n",
       "    </tr>\n",
       "    <tr>\n",
       "      <th>30071</th>\n",
       "      <td>2024-06-06 23:00:00</td>\n",
       "      <td>2024-06-06</td>\n",
       "      <td>6</td>\n",
       "      <td>23</td>\n",
       "    </tr>\n",
       "  </tbody>\n",
       "</table>\n",
       "<p>30072 rows × 4 columns</p>\n",
       "</div>"
      ],
      "text/plain": [
       "                     date        day  month  time\n",
       "0     2021-01-01 00:00:00 2021-01-01      1     0\n",
       "1     2021-01-01 01:00:00 2021-01-01      1     1\n",
       "2     2021-01-01 02:00:00 2021-01-01      1     2\n",
       "3     2021-01-01 03:00:00 2021-01-01      1     3\n",
       "4     2021-01-01 04:00:00 2021-01-01      1     4\n",
       "...                   ...        ...    ...   ...\n",
       "30067 2024-06-06 19:00:00 2024-06-06      6    19\n",
       "30068 2024-06-06 20:00:00 2024-06-06      6    20\n",
       "30069 2024-06-06 21:00:00 2024-06-06      6    21\n",
       "30070 2024-06-06 22:00:00 2024-06-06      6    22\n",
       "30071 2024-06-06 23:00:00 2024-06-06      6    23\n",
       "\n",
       "[30072 rows x 4 columns]"
      ]
     },
     "execution_count": 12,
     "metadata": {},
     "output_type": "execute_result"
    }
   ],
   "source": [
    "date_range = pd.DataFrame(pd.date_range(start_date, target_date+pd.DateOffset(hours=23), freq='H'), columns=['date'])\n",
    "date_range['day'] = date_range.date.dt.date\n",
    "date_range['day'] = pd.to_datetime(date_range['day'])\n",
    "date_range['month'] = date_range.date.dt.month\n",
    "date_range['time'] = date_range.date.dt.hour\n",
    "date_range"
   ]
  },
  {
   "cell_type": "code",
   "execution_count": 13,
   "id": "cd0c1f3a",
   "metadata": {},
   "outputs": [],
   "source": [
    "weather_data = weather_data.merge(date_range[['date', 'day', 'month', 'time']], how='outer', on=['day', 'month', 'time'])\n",
    "weather_data.loc[weather_data.date_x.isna(), 'date_x'] = weather_data.loc[weather_data.date_x.isna(), 'date_y']\n",
    "weather_data = weather_data.sort_values(['date_x'], ascending = True)\n",
    "while weather_data.temperature_2m.isna().sum() != 0:\n",
    "    weather_data['temperature_2m'] = weather_data['temperature_2m'].fillna(weather_data['temperature_2m'].shift())\n",
    "weather_data.drop(columns=['date_y'], inplace=True)"
   ]
  },
  {
   "cell_type": "code",
   "execution_count": 14,
   "id": "a8c94266",
   "metadata": {},
   "outputs": [
    {
     "data": {
      "text/html": [
       "<div>\n",
       "<style scoped>\n",
       "    .dataframe tbody tr th:only-of-type {\n",
       "        vertical-align: middle;\n",
       "    }\n",
       "\n",
       "    .dataframe tbody tr th {\n",
       "        vertical-align: top;\n",
       "    }\n",
       "\n",
       "    .dataframe thead th {\n",
       "        text-align: right;\n",
       "    }\n",
       "</style>\n",
       "<table border=\"1\" class=\"dataframe\">\n",
       "  <thead>\n",
       "    <tr style=\"text-align: right;\">\n",
       "      <th></th>\n",
       "      <th>day</th>\n",
       "      <th>count_day</th>\n",
       "    </tr>\n",
       "  </thead>\n",
       "  <tbody>\n",
       "    <tr>\n",
       "      <th>0</th>\n",
       "      <td>2020-12-31</td>\n",
       "      <td>2</td>\n",
       "    </tr>\n",
       "  </tbody>\n",
       "</table>\n",
       "</div>"
      ],
      "text/plain": [
       "         day  count_day\n",
       "0 2020-12-31          2"
      ]
     },
     "execution_count": 14,
     "metadata": {},
     "output_type": "execute_result"
    }
   ],
   "source": [
    "check = weather_data.groupby('day').day.count().reset_index(name='count_day')\n",
    "days_to_eliminate = check[check.count_day!=24]\n",
    "days_to_eliminate"
   ]
  },
  {
   "cell_type": "code",
   "execution_count": 15,
   "id": "be136887",
   "metadata": {},
   "outputs": [],
   "source": [
    "weather_data_clean = weather_data[~weather_data.day.isin(days_to_eliminate.day.unique())]"
   ]
  },
  {
   "cell_type": "code",
   "execution_count": 16,
   "id": "198a7026",
   "metadata": {},
   "outputs": [],
   "source": [
    "weather_data_clean.rename(columns={'temperature_2m':'temp', 'date_x':'date'}, inplace=True)"
   ]
  },
  {
   "cell_type": "code",
   "execution_count": 17,
   "id": "6f92a612",
   "metadata": {},
   "outputs": [
    {
     "name": "stdout",
     "output_type": "stream",
     "text": [
      "2021-01-01 00:00:00 2024-06-06 23:00:00\n"
     ]
    }
   ],
   "source": [
    "true_start = weather_data_clean.date.min()\n",
    "true_end = weather_data_clean.date.max()\n",
    "print(true_start, true_end)"
   ]
  },
  {
   "cell_type": "code",
   "execution_count": 18,
   "id": "178110c7",
   "metadata": {},
   "outputs": [
    {
     "data": {
      "text/plain": [
       "date     0\n",
       "day      0\n",
       "month    0\n",
       "time     0\n",
       "temp     0\n",
       "dtype: int64"
      ]
     },
     "execution_count": 18,
     "metadata": {},
     "output_type": "execute_result"
    }
   ],
   "source": [
    "weather_data_clean.isna().sum()"
   ]
  },
  {
   "cell_type": "code",
   "execution_count": 19,
   "id": "3ec2724c",
   "metadata": {},
   "outputs": [],
   "source": [
    "n_lags_w = 15\n",
    "weather_data_clean = calculate_lags(weather_data_clean, type_='weather')"
   ]
  },
  {
   "cell_type": "code",
   "execution_count": 20,
   "id": "29f79da5",
   "metadata": {},
   "outputs": [
    {
     "data": {
      "image/png": "[encoded data removed]",
      "text/plain": [
       "<Figure size 1300x500 with 1 Axes>"
      ]
     },
     "metadata": {},
     "output_type": "display_data"
    }
   ],
   "source": [
    "for op in ['mean', 'max', 'min']:\n",
    "    if op == 'max' or op == 'min':\n",
    "        linestyle = '--'\n",
    "    elif op == 'mean':\n",
    "        linestyle = 'solid'\n",
    "    plt.plot(weather_data_clean.day.unique(), weather_data_clean.groupby('day').agg({'temp':op}), \n",
    "             linestyle = linestyle, label = f'Temperature {op}')\n",
    "\n",
    "plt.legend()\n",
    "plt.show()"
   ]
  },
  {
   "cell_type": "code",
   "execution_count": 21,
   "id": "28f242f2",
   "metadata": {},
   "outputs": [
    {
     "data": {
      "text/plain": [
       "<AxesSubplot:>"
      ]
     },
     "execution_count": 21,
     "metadata": {},
     "output_type": "execute_result"
    },
    {
     "data": {
      "image/png": "[encoded data removed]",
      "text/plain": [
       "<Figure size 1300x500 with 1 Axes>"
      ]
     },
     "metadata": {},
     "output_type": "display_data"
    }
   ],
   "source": [
    "temp_columns = weather_data_clean.columns[weather_data_clean.columns.str.contains('temp')]\n",
    "weather_data_clean[temp_columns].corr().iloc[0,:].plot(kind='bar')"
   ]
  },
  {
   "cell_type": "markdown",
   "id": "7ab901fc",
   "metadata": {},
   "source": [
    "## Data retrieval and data processing"
   ]
  },
  {
   "cell_type": "code",
   "execution_count": 22,
   "id": "84c8900a",
   "metadata": {},
   "outputs": [
    {
     "name": "stdout",
     "output_type": "stream",
     "text": [
      "START: 2021-01-01 - END: 2024-06-04 for Nord bidding zone\n",
      "Access token: tqu47658ndt2sty63b4bdzsh \n",
      "\n",
      "01/01/2021 01/03/2021\n",
      "02/03/2021 30/04/2021\n",
      "01/05/2021 29/06/2021\n",
      "30/06/2021 28/08/2021\n",
      "29/08/2021 27/10/2021\n",
      "28/10/2021 26/12/2021\n",
      "27/12/2021 24/02/2022\n",
      "25/02/2022 25/04/2022\n",
      "26/04/2022 24/06/2022\n",
      "25/06/2022 23/08/2022\n",
      "24/08/2022 22/10/2022\n",
      "23/10/2022 21/12/2022\n",
      "22/12/2022 19/02/2023\n",
      "20/02/2023 20/04/2023\n",
      "21/04/2023 19/06/2023\n",
      "20/06/2023 18/08/2023\n",
      "19/08/2023 17/10/2023\n",
      "18/10/2023 16/12/2023\n",
      "17/12/2023 14/02/2024\n",
      "15/02/2024 14/04/2024\n",
      "15/04/2024 04/06/2024\n",
      "Time taken to retrieve 120092 rows of load data: 113s\n"
     ]
    }
   ],
   "source": [
    "bidding_zone = 'Nord'\n",
    "load = get_load_data_from_TERNA(delay = 5, bidding_zone = bidding_zone, \n",
    "                                start_extr = true_start.strftime('%Y-%m-%d'), \n",
    "                                end_extr = '2024-06-04')\n",
    "                                #end_extr = true_end.strftime('%Y-%m-%d'))"
   ]
  },
  {
   "cell_type": "code",
   "execution_count": 23,
   "id": "ce4b2845",
   "metadata": {},
   "outputs": [
    {
     "data": {
      "text/html": [
       "<div>\n",
       "<style scoped>\n",
       "    .dataframe tbody tr th:only-of-type {\n",
       "        vertical-align: middle;\n",
       "    }\n",
       "\n",
       "    .dataframe tbody tr th {\n",
       "        vertical-align: top;\n",
       "    }\n",
       "\n",
       "    .dataframe thead th {\n",
       "        text-align: right;\n",
       "    }\n",
       "</style>\n",
       "<table border=\"1\" class=\"dataframe\">\n",
       "  <thead>\n",
       "    <tr style=\"text-align: right;\">\n",
       "      <th></th>\n",
       "      <th>Date</th>\n",
       "      <th>Total_Load_MW</th>\n",
       "      <th>Forecast_Total_Load_MW</th>\n",
       "      <th>Bidding_Zone</th>\n",
       "    </tr>\n",
       "  </thead>\n",
       "  <tbody>\n",
       "    <tr>\n",
       "      <th>0</th>\n",
       "      <td>2021-03-01 23:45:00</td>\n",
       "      <td>16936.031</td>\n",
       "      <td>16935.473</td>\n",
       "      <td>North</td>\n",
       "    </tr>\n",
       "    <tr>\n",
       "      <th>1</th>\n",
       "      <td>2021-03-01 23:30:00</td>\n",
       "      <td>17257.428</td>\n",
       "      <td>17471.135</td>\n",
       "      <td>North</td>\n",
       "    </tr>\n",
       "    <tr>\n",
       "      <th>2</th>\n",
       "      <td>2021-03-01 23:15:00</td>\n",
       "      <td>17608.465</td>\n",
       "      <td>17864.164</td>\n",
       "      <td>North</td>\n",
       "    </tr>\n",
       "    <tr>\n",
       "      <th>3</th>\n",
       "      <td>2021-03-01 23:00:00</td>\n",
       "      <td>17881.231</td>\n",
       "      <td>18176.919</td>\n",
       "      <td>North</td>\n",
       "    </tr>\n",
       "    <tr>\n",
       "      <th>4</th>\n",
       "      <td>2021-03-01 22:45:00</td>\n",
       "      <td>18043.69</td>\n",
       "      <td>18533.189</td>\n",
       "      <td>North</td>\n",
       "    </tr>\n",
       "    <tr>\n",
       "      <th>...</th>\n",
       "      <td>...</td>\n",
       "      <td>...</td>\n",
       "      <td>...</td>\n",
       "      <td>...</td>\n",
       "    </tr>\n",
       "    <tr>\n",
       "      <th>4891</th>\n",
       "      <td>2024-04-15 01:00:00</td>\n",
       "      <td>12483.423</td>\n",
       "      <td>12486.178</td>\n",
       "      <td>North</td>\n",
       "    </tr>\n",
       "    <tr>\n",
       "      <th>4892</th>\n",
       "      <td>2024-04-15 00:45:00</td>\n",
       "      <td>12858.87</td>\n",
       "      <td>12774.552</td>\n",
       "      <td>North</td>\n",
       "    </tr>\n",
       "    <tr>\n",
       "      <th>4893</th>\n",
       "      <td>2024-04-15 00:30:00</td>\n",
       "      <td>13017.869</td>\n",
       "      <td>12862.147</td>\n",
       "      <td>North</td>\n",
       "    </tr>\n",
       "    <tr>\n",
       "      <th>4894</th>\n",
       "      <td>2024-04-15 00:15:00</td>\n",
       "      <td>13231.542</td>\n",
       "      <td>13106.012</td>\n",
       "      <td>North</td>\n",
       "    </tr>\n",
       "    <tr>\n",
       "      <th>4895</th>\n",
       "      <td>2024-04-15 00:00:00</td>\n",
       "      <td>13529.664</td>\n",
       "      <td>13350.283</td>\n",
       "      <td>North</td>\n",
       "    </tr>\n",
       "  </tbody>\n",
       "</table>\n",
       "<p>120092 rows × 4 columns</p>\n",
       "</div>"
      ],
      "text/plain": [
       "                     Date Total_Load_MW Forecast_Total_Load_MW Bidding_Zone\n",
       "0     2021-03-01 23:45:00     16936.031              16935.473        North\n",
       "1     2021-03-01 23:30:00     17257.428              17471.135        North\n",
       "2     2021-03-01 23:15:00     17608.465              17864.164        North\n",
       "3     2021-03-01 23:00:00     17881.231              18176.919        North\n",
       "4     2021-03-01 22:45:00      18043.69              18533.189        North\n",
       "...                   ...           ...                    ...          ...\n",
       "4891  2024-04-15 01:00:00     12483.423              12486.178        North\n",
       "4892  2024-04-15 00:45:00      12858.87              12774.552        North\n",
       "4893  2024-04-15 00:30:00     13017.869              12862.147        North\n",
       "4894  2024-04-15 00:15:00     13231.542              13106.012        North\n",
       "4895  2024-04-15 00:00:00     13529.664              13350.283        North\n",
       "\n",
       "[120092 rows x 4 columns]"
      ]
     },
     "execution_count": 23,
     "metadata": {},
     "output_type": "execute_result"
    }
   ],
   "source": [
    "load"
   ]
  },
  {
   "cell_type": "code",
   "execution_count": 24,
   "id": "b6226597",
   "metadata": {},
   "outputs": [],
   "source": [
    "load = parsing_load_data(load)"
   ]
  },
  {
   "cell_type": "code",
   "execution_count": 25,
   "id": "d6cfcadd",
   "metadata": {},
   "outputs": [],
   "source": [
    "load_hourly = load.groupby(['day', 'month', 'time', 'flg_holiday', 'is_saturday', 'is_sunday']).mwh.sum().reset_index()"
   ]
  },
  {
   "cell_type": "code",
   "execution_count": 26,
   "id": "7406258e",
   "metadata": {},
   "outputs": [
    {
     "data": {
      "text/html": [
       "<div>\n",
       "<style scoped>\n",
       "    .dataframe tbody tr th:only-of-type {\n",
       "        vertical-align: middle;\n",
       "    }\n",
       "\n",
       "    .dataframe tbody tr th {\n",
       "        vertical-align: top;\n",
       "    }\n",
       "\n",
       "    .dataframe thead th {\n",
       "        text-align: right;\n",
       "    }\n",
       "</style>\n",
       "<table border=\"1\" class=\"dataframe\">\n",
       "  <thead>\n",
       "    <tr style=\"text-align: right;\">\n",
       "      <th></th>\n",
       "      <th>day</th>\n",
       "      <th>month</th>\n",
       "      <th>time</th>\n",
       "      <th>flg_holiday</th>\n",
       "      <th>is_saturday</th>\n",
       "      <th>is_sunday</th>\n",
       "      <th>mwh</th>\n",
       "    </tr>\n",
       "  </thead>\n",
       "  <tbody>\n",
       "    <tr>\n",
       "      <th>0</th>\n",
       "      <td>2021-01-01</td>\n",
       "      <td>1</td>\n",
       "      <td>0</td>\n",
       "      <td>True</td>\n",
       "      <td>False</td>\n",
       "      <td>False</td>\n",
       "      <td>11979.33375</td>\n",
       "    </tr>\n",
       "    <tr>\n",
       "      <th>1</th>\n",
       "      <td>2021-01-01</td>\n",
       "      <td>1</td>\n",
       "      <td>1</td>\n",
       "      <td>True</td>\n",
       "      <td>False</td>\n",
       "      <td>False</td>\n",
       "      <td>11085.10825</td>\n",
       "    </tr>\n",
       "    <tr>\n",
       "      <th>2</th>\n",
       "      <td>2021-01-01</td>\n",
       "      <td>1</td>\n",
       "      <td>2</td>\n",
       "      <td>True</td>\n",
       "      <td>False</td>\n",
       "      <td>False</td>\n",
       "      <td>10197.47000</td>\n",
       "    </tr>\n",
       "    <tr>\n",
       "      <th>3</th>\n",
       "      <td>2021-01-01</td>\n",
       "      <td>1</td>\n",
       "      <td>3</td>\n",
       "      <td>True</td>\n",
       "      <td>False</td>\n",
       "      <td>False</td>\n",
       "      <td>9775.42225</td>\n",
       "    </tr>\n",
       "    <tr>\n",
       "      <th>4</th>\n",
       "      <td>2021-01-01</td>\n",
       "      <td>1</td>\n",
       "      <td>4</td>\n",
       "      <td>True</td>\n",
       "      <td>False</td>\n",
       "      <td>False</td>\n",
       "      <td>9726.83750</td>\n",
       "    </tr>\n",
       "    <tr>\n",
       "      <th>...</th>\n",
       "      <td>...</td>\n",
       "      <td>...</td>\n",
       "      <td>...</td>\n",
       "      <td>...</td>\n",
       "      <td>...</td>\n",
       "      <td>...</td>\n",
       "      <td>...</td>\n",
       "    </tr>\n",
       "    <tr>\n",
       "      <th>30015</th>\n",
       "      <td>2024-06-04</td>\n",
       "      <td>6</td>\n",
       "      <td>19</td>\n",
       "      <td>False</td>\n",
       "      <td>False</td>\n",
       "      <td>False</td>\n",
       "      <td>22278.95900</td>\n",
       "    </tr>\n",
       "    <tr>\n",
       "      <th>30016</th>\n",
       "      <td>2024-06-04</td>\n",
       "      <td>6</td>\n",
       "      <td>20</td>\n",
       "      <td>False</td>\n",
       "      <td>False</td>\n",
       "      <td>False</td>\n",
       "      <td>21648.33900</td>\n",
       "    </tr>\n",
       "    <tr>\n",
       "      <th>30017</th>\n",
       "      <td>2024-06-04</td>\n",
       "      <td>6</td>\n",
       "      <td>21</td>\n",
       "      <td>False</td>\n",
       "      <td>False</td>\n",
       "      <td>False</td>\n",
       "      <td>21283.05050</td>\n",
       "    </tr>\n",
       "    <tr>\n",
       "      <th>30018</th>\n",
       "      <td>2024-06-04</td>\n",
       "      <td>6</td>\n",
       "      <td>22</td>\n",
       "      <td>False</td>\n",
       "      <td>False</td>\n",
       "      <td>False</td>\n",
       "      <td>19694.26250</td>\n",
       "    </tr>\n",
       "    <tr>\n",
       "      <th>30019</th>\n",
       "      <td>2024-06-04</td>\n",
       "      <td>6</td>\n",
       "      <td>23</td>\n",
       "      <td>False</td>\n",
       "      <td>False</td>\n",
       "      <td>False</td>\n",
       "      <td>18015.51825</td>\n",
       "    </tr>\n",
       "  </tbody>\n",
       "</table>\n",
       "<p>30020 rows × 7 columns</p>\n",
       "</div>"
      ],
      "text/plain": [
       "              day  month  time  flg_holiday  is_saturday  is_sunday  \\\n",
       "0      2021-01-01      1     0         True        False      False   \n",
       "1      2021-01-01      1     1         True        False      False   \n",
       "2      2021-01-01      1     2         True        False      False   \n",
       "3      2021-01-01      1     3         True        False      False   \n",
       "4      2021-01-01      1     4         True        False      False   \n",
       "...           ...    ...   ...          ...          ...        ...   \n",
       "30015  2024-06-04      6    19        False        False      False   \n",
       "30016  2024-06-04      6    20        False        False      False   \n",
       "30017  2024-06-04      6    21        False        False      False   \n",
       "30018  2024-06-04      6    22        False        False      False   \n",
       "30019  2024-06-04      6    23        False        False      False   \n",
       "\n",
       "               mwh  \n",
       "0      11979.33375  \n",
       "1      11085.10825  \n",
       "2      10197.47000  \n",
       "3       9775.42225  \n",
       "4       9726.83750  \n",
       "...            ...  \n",
       "30015  22278.95900  \n",
       "30016  21648.33900  \n",
       "30017  21283.05050  \n",
       "30018  19694.26250  \n",
       "30019  18015.51825  \n",
       "\n",
       "[30020 rows x 7 columns]"
      ]
     },
     "execution_count": 26,
     "metadata": {},
     "output_type": "execute_result"
    }
   ],
   "source": [
    "load_hourly"
   ]
  },
  {
   "cell_type": "code",
   "execution_count": 27,
   "id": "8e585d8a",
   "metadata": {},
   "outputs": [],
   "source": [
    "#fill in rows with the MWh from one hour before in case some hour is missing from Terna's data\n",
    "\n",
    "start = load.day.min()\n",
    "end = load.day.max() + pd.DateOffset(hours=23)\n",
    "date_range = pd.DataFrame(pd.date_range(start, end, freq='H'), columns=['date'])\n",
    "date_range['day'] = date_range.date.dt.date\n",
    "date_range['month'] = date_range.date.dt.month\n",
    "date_range['time'] = date_range.date.dt.hour"
   ]
  },
  {
   "cell_type": "code",
   "execution_count": 28,
   "id": "bb61bd07",
   "metadata": {},
   "outputs": [],
   "source": [
    "load_hourly = load_hourly.merge(date_range, how='outer', on=['day', 'month', 'time'])"
   ]
  },
  {
   "cell_type": "code",
   "execution_count": 29,
   "id": "56c2d361",
   "metadata": {},
   "outputs": [],
   "source": [
    "load_hourly = load_hourly[['date', 'day', 'month', 'time', 'flg_holiday', 'is_saturday', 'is_sunday', 'mwh']]"
   ]
  },
  {
   "cell_type": "code",
   "execution_count": 30,
   "id": "5bd85b8b",
   "metadata": {},
   "outputs": [
    {
     "data": {
      "text/html": [
       "<div>\n",
       "<style scoped>\n",
       "    .dataframe tbody tr th:only-of-type {\n",
       "        vertical-align: middle;\n",
       "    }\n",
       "\n",
       "    .dataframe tbody tr th {\n",
       "        vertical-align: top;\n",
       "    }\n",
       "\n",
       "    .dataframe thead th {\n",
       "        text-align: right;\n",
       "    }\n",
       "</style>\n",
       "<table border=\"1\" class=\"dataframe\">\n",
       "  <thead>\n",
       "    <tr style=\"text-align: right;\">\n",
       "      <th></th>\n",
       "      <th>date</th>\n",
       "      <th>day</th>\n",
       "      <th>month</th>\n",
       "      <th>time</th>\n",
       "    </tr>\n",
       "  </thead>\n",
       "  <tbody>\n",
       "  </tbody>\n",
       "</table>\n",
       "</div>"
      ],
      "text/plain": [
       "Empty DataFrame\n",
       "Columns: [date, day, month, time]\n",
       "Index: []"
      ]
     },
     "execution_count": 30,
     "metadata": {},
     "output_type": "execute_result"
    }
   ],
   "source": [
    "date_range[~date_range.date.isin(load_hourly.date.unique())]"
   ]
  },
  {
   "cell_type": "code",
   "execution_count": 31,
   "id": "d8b91a58",
   "metadata": {},
   "outputs": [
    {
     "data": {
      "text/plain": [
       "(30024, 30024)"
      ]
     },
     "execution_count": 31,
     "metadata": {},
     "output_type": "execute_result"
    }
   ],
   "source": [
    "len(date_range), len(load_hourly)"
   ]
  },
  {
   "cell_type": "code",
   "execution_count": 32,
   "id": "b3c0a47a",
   "metadata": {},
   "outputs": [],
   "source": [
    "load_hourly = load_hourly.sort_values(['date'], ascending = True)\n",
    "load_hourly['mwh'] = load_hourly['mwh'].fillna(load_hourly['mwh'].shift())"
   ]
  },
  {
   "cell_type": "code",
   "execution_count": 33,
   "id": "4625766c",
   "metadata": {},
   "outputs": [
    {
     "data": {
      "text/plain": [
       "[<matplotlib.lines.Line2D at 0x264e80ff070>]"
      ]
     },
     "execution_count": 33,
     "metadata": {},
     "output_type": "execute_result"
    },
    {
     "data": {
      "image/png": "[encoded data removed]",
      "text/plain": [
       "<Figure size 1300x500 with 1 Axes>"
      ]
     },
     "metadata": {},
     "output_type": "display_data"
    }
   ],
   "source": [
    "plt.figure(figsize=(13,5))\n",
    "plt.plot(load_hourly.day.unique(), load_hourly.groupby('day').mwh.sum())"
   ]
  },
  {
   "cell_type": "code",
   "execution_count": 34,
   "id": "5c4abd38",
   "metadata": {},
   "outputs": [
    {
     "data": {
      "text/html": [
       "<div>\n",
       "<style scoped>\n",
       "    .dataframe tbody tr th:only-of-type {\n",
       "        vertical-align: middle;\n",
       "    }\n",
       "\n",
       "    .dataframe tbody tr th {\n",
       "        vertical-align: top;\n",
       "    }\n",
       "\n",
       "    .dataframe thead th {\n",
       "        text-align: right;\n",
       "    }\n",
       "</style>\n",
       "<table border=\"1\" class=\"dataframe\">\n",
       "  <thead>\n",
       "    <tr style=\"text-align: right;\">\n",
       "      <th></th>\n",
       "      <th>day</th>\n",
       "      <th>count_hour</th>\n",
       "    </tr>\n",
       "  </thead>\n",
       "  <tbody>\n",
       "  </tbody>\n",
       "</table>\n",
       "</div>"
      ],
      "text/plain": [
       "Empty DataFrame\n",
       "Columns: [day, count_hour]\n",
       "Index: []"
      ]
     },
     "execution_count": 34,
     "metadata": {},
     "output_type": "execute_result"
    }
   ],
   "source": [
    "check = load_hourly.groupby(['day']).day.count().reset_index(name='count_hour')\n",
    "check[check.count_hour!=24]"
   ]
  },
  {
   "cell_type": "markdown",
   "id": "eed80a21",
   "metadata": {},
   "source": [
    "## Feature engineering"
   ]
  },
  {
   "cell_type": "code",
   "execution_count": 35,
   "id": "bdc8560d",
   "metadata": {},
   "outputs": [],
   "source": [
    "n_lags=30\n",
    "load_hourly = calculate_lags(load_hourly, n_lags = n_lags, type_='load')"
   ]
  },
  {
   "cell_type": "code",
   "execution_count": 36,
   "id": "1319d9e8",
   "metadata": {},
   "outputs": [
    {
     "data": {
      "text/html": [
       "<div>\n",
       "<style scoped>\n",
       "    .dataframe tbody tr th:only-of-type {\n",
       "        vertical-align: middle;\n",
       "    }\n",
       "\n",
       "    .dataframe tbody tr th {\n",
       "        vertical-align: top;\n",
       "    }\n",
       "\n",
       "    .dataframe thead th {\n",
       "        text-align: right;\n",
       "    }\n",
       "</style>\n",
       "<table border=\"1\" class=\"dataframe\">\n",
       "  <thead>\n",
       "    <tr style=\"text-align: right;\">\n",
       "      <th></th>\n",
       "      <th>day</th>\n",
       "      <th>count_hour</th>\n",
       "    </tr>\n",
       "  </thead>\n",
       "  <tbody>\n",
       "  </tbody>\n",
       "</table>\n",
       "</div>"
      ],
      "text/plain": [
       "Empty DataFrame\n",
       "Columns: [day, count_hour]\n",
       "Index: []"
      ]
     },
     "execution_count": 36,
     "metadata": {},
     "output_type": "execute_result"
    }
   ],
   "source": [
    "check = load_hourly.groupby(['day']).day.count().reset_index(name='count_hour')\n",
    "check[check.count_hour!=24]"
   ]
  },
  {
   "cell_type": "code",
   "execution_count": 37,
   "id": "b7cc8e4c",
   "metadata": {},
   "outputs": [
    {
     "data": {
      "text/html": [
       "<div>\n",
       "<style scoped>\n",
       "    .dataframe tbody tr th:only-of-type {\n",
       "        vertical-align: middle;\n",
       "    }\n",
       "\n",
       "    .dataframe tbody tr th {\n",
       "        vertical-align: top;\n",
       "    }\n",
       "\n",
       "    .dataframe thead th {\n",
       "        text-align: right;\n",
       "    }\n",
       "</style>\n",
       "<table border=\"1\" class=\"dataframe\">\n",
       "  <thead>\n",
       "    <tr style=\"text-align: right;\">\n",
       "      <th></th>\n",
       "      <th>date</th>\n",
       "      <th>day</th>\n",
       "      <th>month</th>\n",
       "      <th>time</th>\n",
       "      <th>flg_holiday</th>\n",
       "      <th>is_saturday</th>\n",
       "      <th>is_sunday</th>\n",
       "      <th>mwh</th>\n",
       "      <th>mwh_1_before</th>\n",
       "      <th>mwh_2_before</th>\n",
       "      <th>...</th>\n",
       "      <th>mwh_20_before</th>\n",
       "      <th>mwh_21_before</th>\n",
       "      <th>mwh_22_before</th>\n",
       "      <th>mwh_23_before</th>\n",
       "      <th>mwh_24_before</th>\n",
       "      <th>mwh_25_before</th>\n",
       "      <th>mwh_26_before</th>\n",
       "      <th>mwh_27_before</th>\n",
       "      <th>mwh_28_before</th>\n",
       "      <th>mwh_29_before</th>\n",
       "    </tr>\n",
       "  </thead>\n",
       "  <tbody>\n",
       "    <tr>\n",
       "      <th>0</th>\n",
       "      <td>2021-01-01 00:00:00</td>\n",
       "      <td>2021-01-01</td>\n",
       "      <td>1</td>\n",
       "      <td>0</td>\n",
       "      <td>True</td>\n",
       "      <td>False</td>\n",
       "      <td>False</td>\n",
       "      <td>11979.33375</td>\n",
       "      <td>NaN</td>\n",
       "      <td>NaN</td>\n",
       "      <td>...</td>\n",
       "      <td>NaN</td>\n",
       "      <td>NaN</td>\n",
       "      <td>NaN</td>\n",
       "      <td>NaN</td>\n",
       "      <td>NaN</td>\n",
       "      <td>NaN</td>\n",
       "      <td>NaN</td>\n",
       "      <td>NaN</td>\n",
       "      <td>NaN</td>\n",
       "      <td>NaN</td>\n",
       "    </tr>\n",
       "    <tr>\n",
       "      <th>1</th>\n",
       "      <td>2021-01-01 01:00:00</td>\n",
       "      <td>2021-01-01</td>\n",
       "      <td>1</td>\n",
       "      <td>1</td>\n",
       "      <td>True</td>\n",
       "      <td>False</td>\n",
       "      <td>False</td>\n",
       "      <td>11085.10825</td>\n",
       "      <td>NaN</td>\n",
       "      <td>NaN</td>\n",
       "      <td>...</td>\n",
       "      <td>NaN</td>\n",
       "      <td>NaN</td>\n",
       "      <td>NaN</td>\n",
       "      <td>NaN</td>\n",
       "      <td>NaN</td>\n",
       "      <td>NaN</td>\n",
       "      <td>NaN</td>\n",
       "      <td>NaN</td>\n",
       "      <td>NaN</td>\n",
       "      <td>NaN</td>\n",
       "    </tr>\n",
       "    <tr>\n",
       "      <th>2</th>\n",
       "      <td>2021-01-01 02:00:00</td>\n",
       "      <td>2021-01-01</td>\n",
       "      <td>1</td>\n",
       "      <td>2</td>\n",
       "      <td>True</td>\n",
       "      <td>False</td>\n",
       "      <td>False</td>\n",
       "      <td>10197.47000</td>\n",
       "      <td>NaN</td>\n",
       "      <td>NaN</td>\n",
       "      <td>...</td>\n",
       "      <td>NaN</td>\n",
       "      <td>NaN</td>\n",
       "      <td>NaN</td>\n",
       "      <td>NaN</td>\n",
       "      <td>NaN</td>\n",
       "      <td>NaN</td>\n",
       "      <td>NaN</td>\n",
       "      <td>NaN</td>\n",
       "      <td>NaN</td>\n",
       "      <td>NaN</td>\n",
       "    </tr>\n",
       "    <tr>\n",
       "      <th>3</th>\n",
       "      <td>2021-01-01 03:00:00</td>\n",
       "      <td>2021-01-01</td>\n",
       "      <td>1</td>\n",
       "      <td>3</td>\n",
       "      <td>True</td>\n",
       "      <td>False</td>\n",
       "      <td>False</td>\n",
       "      <td>9775.42225</td>\n",
       "      <td>NaN</td>\n",
       "      <td>NaN</td>\n",
       "      <td>...</td>\n",
       "      <td>NaN</td>\n",
       "      <td>NaN</td>\n",
       "      <td>NaN</td>\n",
       "      <td>NaN</td>\n",
       "      <td>NaN</td>\n",
       "      <td>NaN</td>\n",
       "      <td>NaN</td>\n",
       "      <td>NaN</td>\n",
       "      <td>NaN</td>\n",
       "      <td>NaN</td>\n",
       "    </tr>\n",
       "    <tr>\n",
       "      <th>4</th>\n",
       "      <td>2021-01-01 04:00:00</td>\n",
       "      <td>2021-01-01</td>\n",
       "      <td>1</td>\n",
       "      <td>4</td>\n",
       "      <td>True</td>\n",
       "      <td>False</td>\n",
       "      <td>False</td>\n",
       "      <td>9726.83750</td>\n",
       "      <td>NaN</td>\n",
       "      <td>NaN</td>\n",
       "      <td>...</td>\n",
       "      <td>NaN</td>\n",
       "      <td>NaN</td>\n",
       "      <td>NaN</td>\n",
       "      <td>NaN</td>\n",
       "      <td>NaN</td>\n",
       "      <td>NaN</td>\n",
       "      <td>NaN</td>\n",
       "      <td>NaN</td>\n",
       "      <td>NaN</td>\n",
       "      <td>NaN</td>\n",
       "    </tr>\n",
       "    <tr>\n",
       "      <th>...</th>\n",
       "      <td>...</td>\n",
       "      <td>...</td>\n",
       "      <td>...</td>\n",
       "      <td>...</td>\n",
       "      <td>...</td>\n",
       "      <td>...</td>\n",
       "      <td>...</td>\n",
       "      <td>...</td>\n",
       "      <td>...</td>\n",
       "      <td>...</td>\n",
       "      <td>...</td>\n",
       "      <td>...</td>\n",
       "      <td>...</td>\n",
       "      <td>...</td>\n",
       "      <td>...</td>\n",
       "      <td>...</td>\n",
       "      <td>...</td>\n",
       "      <td>...</td>\n",
       "      <td>...</td>\n",
       "      <td>...</td>\n",
       "      <td>...</td>\n",
       "    </tr>\n",
       "    <tr>\n",
       "      <th>30015</th>\n",
       "      <td>2024-06-04 19:00:00</td>\n",
       "      <td>2024-06-04</td>\n",
       "      <td>6</td>\n",
       "      <td>19</td>\n",
       "      <td>False</td>\n",
       "      <td>False</td>\n",
       "      <td>False</td>\n",
       "      <td>22278.95900</td>\n",
       "      <td>21422.07825</td>\n",
       "      <td>15529.94175</td>\n",
       "      <td>...</td>\n",
       "      <td>22850.37150</td>\n",
       "      <td>22812.48425</td>\n",
       "      <td>22354.00500</td>\n",
       "      <td>16314.99525</td>\n",
       "      <td>17554.24525</td>\n",
       "      <td>21111.84625</td>\n",
       "      <td>22024.06175</td>\n",
       "      <td>22546.97175</td>\n",
       "      <td>22643.88175</td>\n",
       "      <td>21724.99425</td>\n",
       "    </tr>\n",
       "    <tr>\n",
       "      <th>30016</th>\n",
       "      <td>2024-06-04 20:00:00</td>\n",
       "      <td>2024-06-04</td>\n",
       "      <td>6</td>\n",
       "      <td>20</td>\n",
       "      <td>False</td>\n",
       "      <td>False</td>\n",
       "      <td>False</td>\n",
       "      <td>21648.33900</td>\n",
       "      <td>20770.94125</td>\n",
       "      <td>15267.70850</td>\n",
       "      <td>...</td>\n",
       "      <td>22346.26750</td>\n",
       "      <td>22146.62375</td>\n",
       "      <td>21913.89425</td>\n",
       "      <td>16575.91600</td>\n",
       "      <td>17444.13625</td>\n",
       "      <td>20791.94625</td>\n",
       "      <td>21783.94950</td>\n",
       "      <td>22420.67850</td>\n",
       "      <td>22397.70200</td>\n",
       "      <td>21650.06225</td>\n",
       "    </tr>\n",
       "    <tr>\n",
       "      <th>30017</th>\n",
       "      <td>2024-06-04 21:00:00</td>\n",
       "      <td>2024-06-04</td>\n",
       "      <td>6</td>\n",
       "      <td>21</td>\n",
       "      <td>False</td>\n",
       "      <td>False</td>\n",
       "      <td>False</td>\n",
       "      <td>21283.05050</td>\n",
       "      <td>20388.00150</td>\n",
       "      <td>15132.82700</td>\n",
       "      <td>...</td>\n",
       "      <td>21373.93325</td>\n",
       "      <td>21183.09825</td>\n",
       "      <td>21076.71975</td>\n",
       "      <td>16401.17250</td>\n",
       "      <td>17143.19475</td>\n",
       "      <td>20280.11050</td>\n",
       "      <td>20976.32525</td>\n",
       "      <td>21474.17225</td>\n",
       "      <td>21322.42875</td>\n",
       "      <td>20860.42500</td>\n",
       "    </tr>\n",
       "    <tr>\n",
       "      <th>30018</th>\n",
       "      <td>2024-06-04 22:00:00</td>\n",
       "      <td>2024-06-04</td>\n",
       "      <td>6</td>\n",
       "      <td>22</td>\n",
       "      <td>False</td>\n",
       "      <td>False</td>\n",
       "      <td>False</td>\n",
       "      <td>19694.26250</td>\n",
       "      <td>18785.45300</td>\n",
       "      <td>14366.01900</td>\n",
       "      <td>...</td>\n",
       "      <td>19272.46475</td>\n",
       "      <td>19348.19825</td>\n",
       "      <td>19127.33200</td>\n",
       "      <td>15337.40575</td>\n",
       "      <td>16022.80900</td>\n",
       "      <td>18836.53875</td>\n",
       "      <td>19310.45375</td>\n",
       "      <td>19469.85725</td>\n",
       "      <td>19325.14775</td>\n",
       "      <td>18902.29100</td>\n",
       "    </tr>\n",
       "    <tr>\n",
       "      <th>30019</th>\n",
       "      <td>2024-06-04 23:00:00</td>\n",
       "      <td>2024-06-04</td>\n",
       "      <td>6</td>\n",
       "      <td>23</td>\n",
       "      <td>False</td>\n",
       "      <td>False</td>\n",
       "      <td>False</td>\n",
       "      <td>18015.51825</td>\n",
       "      <td>17497.05425</td>\n",
       "      <td>13263.19425</td>\n",
       "      <td>...</td>\n",
       "      <td>17697.20725</td>\n",
       "      <td>17836.67525</td>\n",
       "      <td>17736.97100</td>\n",
       "      <td>13966.78700</td>\n",
       "      <td>14799.48625</td>\n",
       "      <td>17463.46075</td>\n",
       "      <td>17662.34175</td>\n",
       "      <td>17703.84250</td>\n",
       "      <td>17758.25950</td>\n",
       "      <td>17359.03200</td>\n",
       "    </tr>\n",
       "  </tbody>\n",
       "</table>\n",
       "<p>30024 rows × 37 columns</p>\n",
       "</div>"
      ],
      "text/plain": [
       "                     date         day  month  time flg_holiday is_saturday  \\\n",
       "0     2021-01-01 00:00:00  2021-01-01      1     0        True       False   \n",
       "1     2021-01-01 01:00:00  2021-01-01      1     1        True       False   \n",
       "2     2021-01-01 02:00:00  2021-01-01      1     2        True       False   \n",
       "3     2021-01-01 03:00:00  2021-01-01      1     3        True       False   \n",
       "4     2021-01-01 04:00:00  2021-01-01      1     4        True       False   \n",
       "...                   ...         ...    ...   ...         ...         ...   \n",
       "30015 2024-06-04 19:00:00  2024-06-04      6    19       False       False   \n",
       "30016 2024-06-04 20:00:00  2024-06-04      6    20       False       False   \n",
       "30017 2024-06-04 21:00:00  2024-06-04      6    21       False       False   \n",
       "30018 2024-06-04 22:00:00  2024-06-04      6    22       False       False   \n",
       "30019 2024-06-04 23:00:00  2024-06-04      6    23       False       False   \n",
       "\n",
       "      is_sunday          mwh  mwh_1_before  mwh_2_before  ...  mwh_20_before  \\\n",
       "0         False  11979.33375           NaN           NaN  ...            NaN   \n",
       "1         False  11085.10825           NaN           NaN  ...            NaN   \n",
       "2         False  10197.47000           NaN           NaN  ...            NaN   \n",
       "3         False   9775.42225           NaN           NaN  ...            NaN   \n",
       "4         False   9726.83750           NaN           NaN  ...            NaN   \n",
       "...         ...          ...           ...           ...  ...            ...   \n",
       "30015     False  22278.95900   21422.07825   15529.94175  ...    22850.37150   \n",
       "30016     False  21648.33900   20770.94125   15267.70850  ...    22346.26750   \n",
       "30017     False  21283.05050   20388.00150   15132.82700  ...    21373.93325   \n",
       "30018     False  19694.26250   18785.45300   14366.01900  ...    19272.46475   \n",
       "30019     False  18015.51825   17497.05425   13263.19425  ...    17697.20725   \n",
       "\n",
       "       mwh_21_before  mwh_22_before  mwh_23_before  mwh_24_before  \\\n",
       "0                NaN            NaN            NaN            NaN   \n",
       "1                NaN            NaN            NaN            NaN   \n",
       "2                NaN            NaN            NaN            NaN   \n",
       "3                NaN            NaN            NaN            NaN   \n",
       "4                NaN            NaN            NaN            NaN   \n",
       "...              ...            ...            ...            ...   \n",
       "30015    22812.48425    22354.00500    16314.99525    17554.24525   \n",
       "30016    22146.62375    21913.89425    16575.91600    17444.13625   \n",
       "30017    21183.09825    21076.71975    16401.17250    17143.19475   \n",
       "30018    19348.19825    19127.33200    15337.40575    16022.80900   \n",
       "30019    17836.67525    17736.97100    13966.78700    14799.48625   \n",
       "\n",
       "       mwh_25_before  mwh_26_before  mwh_27_before  mwh_28_before  \\\n",
       "0                NaN            NaN            NaN            NaN   \n",
       "1                NaN            NaN            NaN            NaN   \n",
       "2                NaN            NaN            NaN            NaN   \n",
       "3                NaN            NaN            NaN            NaN   \n",
       "4                NaN            NaN            NaN            NaN   \n",
       "...              ...            ...            ...            ...   \n",
       "30015    21111.84625    22024.06175    22546.97175    22643.88175   \n",
       "30016    20791.94625    21783.94950    22420.67850    22397.70200   \n",
       "30017    20280.11050    20976.32525    21474.17225    21322.42875   \n",
       "30018    18836.53875    19310.45375    19469.85725    19325.14775   \n",
       "30019    17463.46075    17662.34175    17703.84250    17758.25950   \n",
       "\n",
       "       mwh_29_before  \n",
       "0                NaN  \n",
       "1                NaN  \n",
       "2                NaN  \n",
       "3                NaN  \n",
       "4                NaN  \n",
       "...              ...  \n",
       "30015    21724.99425  \n",
       "30016    21650.06225  \n",
       "30017    20860.42500  \n",
       "30018    18902.29100  \n",
       "30019    17359.03200  \n",
       "\n",
       "[30024 rows x 37 columns]"
      ]
     },
     "execution_count": 37,
     "metadata": {},
     "output_type": "execute_result"
    }
   ],
   "source": [
    "load_hourly"
   ]
  },
  {
   "cell_type": "code",
   "execution_count": 38,
   "id": "b5b0f0c6",
   "metadata": {},
   "outputs": [],
   "source": [
    "quantiles = calculate_monthly_hourly_quantiles(load_hourly)"
   ]
  },
  {
   "cell_type": "code",
   "execution_count": 39,
   "id": "36f81128",
   "metadata": {},
   "outputs": [
    {
     "data": {
      "text/plain": [
       "Index(['date', 'day', 'month', 'time', 'flg_holiday', 'is_saturday',\n",
       "       'is_sunday', 'mwh', 'mwh_1_before', 'mwh_2_before', 'mwh_3_before',\n",
       "       'mwh_4_before', 'mwh_5_before', 'mwh_6_before', 'mwh_7_before',\n",
       "       'mwh_8_before', 'mwh_9_before', 'mwh_10_before', 'mwh_11_before',\n",
       "       'mwh_12_before', 'mwh_13_before', 'mwh_14_before', 'mwh_15_before',\n",
       "       'mwh_16_before', 'mwh_17_before', 'mwh_18_before', 'mwh_19_before',\n",
       "       'mwh_20_before', 'mwh_21_before', 'mwh_22_before', 'mwh_23_before',\n",
       "       'mwh_24_before', 'mwh_25_before', 'mwh_26_before', 'mwh_27_before',\n",
       "       'mwh_28_before', 'mwh_29_before', 'quant_order', 'quant_value'],\n",
       "      dtype='object')"
      ]
     },
     "execution_count": 39,
     "metadata": {},
     "output_type": "execute_result"
    }
   ],
   "source": [
    "load_hourly = load_hourly.merge(quantiles, how='left', on=['month', 'time'])\n",
    "load_hourly.columns"
   ]
  },
  {
   "cell_type": "code",
   "execution_count": 40,
   "id": "4783b4f6",
   "metadata": {},
   "outputs": [
    {
     "data": {
      "text/html": [
       "<div>\n",
       "<style scoped>\n",
       "    .dataframe tbody tr th:only-of-type {\n",
       "        vertical-align: middle;\n",
       "    }\n",
       "\n",
       "    .dataframe tbody tr th {\n",
       "        vertical-align: top;\n",
       "    }\n",
       "\n",
       "    .dataframe thead th {\n",
       "        text-align: right;\n",
       "    }\n",
       "</style>\n",
       "<table border=\"1\" class=\"dataframe\">\n",
       "  <thead>\n",
       "    <tr style=\"text-align: right;\">\n",
       "      <th></th>\n",
       "      <th>day</th>\n",
       "      <th>count_hour</th>\n",
       "    </tr>\n",
       "  </thead>\n",
       "  <tbody>\n",
       "  </tbody>\n",
       "</table>\n",
       "</div>"
      ],
      "text/plain": [
       "Empty DataFrame\n",
       "Columns: [day, count_hour]\n",
       "Index: []"
      ]
     },
     "execution_count": 40,
     "metadata": {},
     "output_type": "execute_result"
    }
   ],
   "source": [
    "check = load_hourly.groupby(['day']).day.count().reset_index(name='count_hour')\n",
    "check[check.count_hour!=240]"
   ]
  },
  {
   "cell_type": "code",
   "execution_count": 41,
   "id": "8d97ca05",
   "metadata": {},
   "outputs": [],
   "source": [
    "load_hourly = load_hourly.pivot_table(index=['date', 'day', 'month', 'time', 'flg_holiday', 'is_saturday',\n",
    "       'is_sunday', 'mwh', 'mwh_1_before', 'mwh_2_before',\n",
    "       'mwh_3_before', 'mwh_4_before', 'mwh_5_before', 'mwh_6_before',\n",
    "       'mwh_7_before', 'mwh_8_before', 'mwh_9_before', 'mwh_10_before',\n",
    "       'mwh_11_before', 'mwh_12_before', 'mwh_13_before', 'mwh_14_before',\n",
    "       'mwh_15_before', 'mwh_16_before', 'mwh_17_before', 'mwh_18_before',\n",
    "       'mwh_19_before', 'mwh_20_before', 'mwh_21_before', 'mwh_22_before',\n",
    "       'mwh_23_before', 'mwh_24_before', 'mwh_25_before', 'mwh_26_before',\n",
    "       'mwh_27_before', 'mwh_28_before', 'mwh_29_before'], columns='quant_order', values='quant_value').reset_index()"
   ]
  },
  {
   "cell_type": "code",
   "execution_count": 42,
   "id": "5f9fc1fb",
   "metadata": {},
   "outputs": [],
   "source": [
    "load_hourly.columns.name = None\n",
    "load_hourly.reset_index(drop=True, inplace=True)\n",
    "\n",
    "for col in load_hourly.columns[-10:]:\n",
    "    load_hourly.rename(columns={col:\"quant_order_\"+str(col)}, inplace=True)"
   ]
  },
  {
   "cell_type": "code",
   "execution_count": 43,
   "id": "0c90e1cb",
   "metadata": {},
   "outputs": [
    {
     "data": {
      "text/html": [
       "<div>\n",
       "<style scoped>\n",
       "    .dataframe tbody tr th:only-of-type {\n",
       "        vertical-align: middle;\n",
       "    }\n",
       "\n",
       "    .dataframe tbody tr th {\n",
       "        vertical-align: top;\n",
       "    }\n",
       "\n",
       "    .dataframe thead th {\n",
       "        text-align: right;\n",
       "    }\n",
       "</style>\n",
       "<table border=\"1\" class=\"dataframe\">\n",
       "  <thead>\n",
       "    <tr style=\"text-align: right;\">\n",
       "      <th></th>\n",
       "      <th>day</th>\n",
       "      <th>count_hour</th>\n",
       "    </tr>\n",
       "  </thead>\n",
       "  <tbody>\n",
       "    <tr>\n",
       "      <th>57</th>\n",
       "      <td>2021-03-28</td>\n",
       "      <td>23</td>\n",
       "    </tr>\n",
       "    <tr>\n",
       "      <th>421</th>\n",
       "      <td>2022-03-27</td>\n",
       "      <td>23</td>\n",
       "    </tr>\n",
       "    <tr>\n",
       "      <th>785</th>\n",
       "      <td>2023-03-26</td>\n",
       "      <td>23</td>\n",
       "    </tr>\n",
       "    <tr>\n",
       "      <th>1156</th>\n",
       "      <td>2024-03-31</td>\n",
       "      <td>23</td>\n",
       "    </tr>\n",
       "  </tbody>\n",
       "</table>\n",
       "</div>"
      ],
      "text/plain": [
       "             day  count_hour\n",
       "57    2021-03-28          23\n",
       "421   2022-03-27          23\n",
       "785   2023-03-26          23\n",
       "1156  2024-03-31          23"
      ]
     },
     "execution_count": 43,
     "metadata": {},
     "output_type": "execute_result"
    }
   ],
   "source": [
    "check = load_hourly.groupby(['day']).day.count().reset_index(name='count_hour')\n",
    "check[check.count_hour!=24]"
   ]
  },
  {
   "cell_type": "code",
   "execution_count": 44,
   "id": "a06ca783",
   "metadata": {},
   "outputs": [],
   "source": [
    "month_hour_mean = load_hourly.groupby(['month', 'time']).mwh.mean().reset_index()\n",
    "month_hour_mean.rename(columns={'mwh':'monthly_hourly_mean'}, inplace=True)\n",
    "load_hourly = load_hourly.merge(month_hour_mean, how='left',on=['month','time'])"
   ]
  },
  {
   "cell_type": "code",
   "execution_count": 45,
   "id": "9c284351",
   "metadata": {},
   "outputs": [
    {
     "data": {
      "text/plain": [
       "Index(['date', 'day', 'month', 'time', 'flg_holiday', 'is_saturday',\n",
       "       'is_sunday', 'mwh', 'mwh_1_before', 'mwh_2_before', 'mwh_3_before',\n",
       "       'mwh_4_before', 'mwh_5_before', 'mwh_6_before', 'mwh_7_before',\n",
       "       'mwh_8_before', 'mwh_9_before', 'mwh_10_before', 'mwh_11_before',\n",
       "       'mwh_12_before', 'mwh_13_before', 'mwh_14_before', 'mwh_15_before',\n",
       "       'mwh_16_before', 'mwh_17_before', 'mwh_18_before', 'mwh_19_before',\n",
       "       'mwh_20_before', 'mwh_21_before', 'mwh_22_before', 'mwh_23_before',\n",
       "       'mwh_24_before', 'mwh_25_before', 'mwh_26_before', 'mwh_27_before',\n",
       "       'mwh_28_before', 'mwh_29_before', 'quant_order_1', 'quant_order_2',\n",
       "       'quant_order_3', 'quant_order_4', 'quant_order_5', 'quant_order_6',\n",
       "       'quant_order_7', 'quant_order_8', 'quant_order_9', 'quant_order_10',\n",
       "       'monthly_hourly_mean'],\n",
       "      dtype='object')"
      ]
     },
     "execution_count": 45,
     "metadata": {},
     "output_type": "execute_result"
    }
   ],
   "source": [
    "load_hourly.columns"
   ]
  },
  {
   "cell_type": "code",
   "execution_count": 46,
   "id": "6ce34a52",
   "metadata": {},
   "outputs": [
    {
     "data": {
      "text/plain": [
       "0"
      ]
     },
     "execution_count": 46,
     "metadata": {},
     "output_type": "execute_result"
    }
   ],
   "source": [
    "load_hourly.isna().sum().sum()"
   ]
  },
  {
   "cell_type": "code",
   "execution_count": 47,
   "id": "d4fd9989",
   "metadata": {},
   "outputs": [
    {
     "data": {
      "text/plain": [
       "<AxesSubplot:>"
      ]
     },
     "execution_count": 47,
     "metadata": {},
     "output_type": "execute_result"
    },
    {
     "data": {
      "image/png": "[encoded data removed]",
      "text/plain": [
       "<Figure size 1300x600 with 1 Axes>"
      ]
     },
     "metadata": {},
     "output_type": "display_data"
    }
   ],
   "source": [
    "load_hourly[load_hourly.columns[7:]].corr().iloc[0].plot(kind='bar', figsize=(13,6))"
   ]
  },
  {
   "cell_type": "markdown",
   "id": "4b0430c6",
   "metadata": {},
   "source": [
    "## Merge load and weather data"
   ]
  },
  {
   "cell_type": "code",
   "execution_count": 48,
   "id": "f89f03f3",
   "metadata": {},
   "outputs": [
    {
     "data": {
      "text/html": [
       "<div>\n",
       "<style scoped>\n",
       "    .dataframe tbody tr th:only-of-type {\n",
       "        vertical-align: middle;\n",
       "    }\n",
       "\n",
       "    .dataframe tbody tr th {\n",
       "        vertical-align: top;\n",
       "    }\n",
       "\n",
       "    .dataframe thead th {\n",
       "        text-align: right;\n",
       "    }\n",
       "</style>\n",
       "<table border=\"1\" class=\"dataframe\">\n",
       "  <thead>\n",
       "    <tr style=\"text-align: right;\">\n",
       "      <th></th>\n",
       "      <th>day</th>\n",
       "      <th>count_date</th>\n",
       "    </tr>\n",
       "  </thead>\n",
       "  <tbody>\n",
       "    <tr>\n",
       "      <th>57</th>\n",
       "      <td>2021-03-28</td>\n",
       "      <td>23</td>\n",
       "    </tr>\n",
       "    <tr>\n",
       "      <th>421</th>\n",
       "      <td>2022-03-27</td>\n",
       "      <td>23</td>\n",
       "    </tr>\n",
       "    <tr>\n",
       "      <th>785</th>\n",
       "      <td>2023-03-26</td>\n",
       "      <td>23</td>\n",
       "    </tr>\n",
       "    <tr>\n",
       "      <th>1156</th>\n",
       "      <td>2024-03-31</td>\n",
       "      <td>23</td>\n",
       "    </tr>\n",
       "  </tbody>\n",
       "</table>\n",
       "</div>"
      ],
      "text/plain": [
       "             day  count_date\n",
       "57    2021-03-28          23\n",
       "421   2022-03-27          23\n",
       "785   2023-03-26          23\n",
       "1156  2024-03-31          23"
      ]
     },
     "execution_count": 48,
     "metadata": {},
     "output_type": "execute_result"
    }
   ],
   "source": [
    "check_load = load_hourly.groupby('day').day.count().reset_index(name='count_date')\n",
    "check_load[check_load.count_date!=24]"
   ]
  },
  {
   "cell_type": "code",
   "execution_count": 49,
   "id": "8f85e8d7",
   "metadata": {},
   "outputs": [
    {
     "data": {
      "text/html": [
       "<div>\n",
       "<style scoped>\n",
       "    .dataframe tbody tr th:only-of-type {\n",
       "        vertical-align: middle;\n",
       "    }\n",
       "\n",
       "    .dataframe tbody tr th {\n",
       "        vertical-align: top;\n",
       "    }\n",
       "\n",
       "    .dataframe thead th {\n",
       "        text-align: right;\n",
       "    }\n",
       "</style>\n",
       "<table border=\"1\" class=\"dataframe\">\n",
       "  <thead>\n",
       "    <tr style=\"text-align: right;\">\n",
       "      <th></th>\n",
       "      <th>day</th>\n",
       "      <th>count_date</th>\n",
       "    </tr>\n",
       "  </thead>\n",
       "  <tbody>\n",
       "  </tbody>\n",
       "</table>\n",
       "</div>"
      ],
      "text/plain": [
       "Empty DataFrame\n",
       "Columns: [day, count_date]\n",
       "Index: []"
      ]
     },
     "execution_count": 49,
     "metadata": {},
     "output_type": "execute_result"
    }
   ],
   "source": [
    "check_weather = weather_data_clean.groupby('day').day.count().reset_index(name='count_date')\n",
    "check_weather[check_weather.count_date!=24]"
   ]
  },
  {
   "cell_type": "code",
   "execution_count": 50,
   "id": "1c96d301",
   "metadata": {},
   "outputs": [
    {
     "data": {
      "text/plain": [
       "(Timestamp('2021-01-30 00:00:00'), Timestamp('2024-06-04 23:00:00'))"
      ]
     },
     "execution_count": 50,
     "metadata": {},
     "output_type": "execute_result"
    }
   ],
   "source": [
    "load_hourly.date.min(), load_hourly.date.max()"
   ]
  },
  {
   "cell_type": "code",
   "execution_count": 51,
   "id": "84ab5c35",
   "metadata": {},
   "outputs": [
    {
     "data": {
      "text/plain": [
       "(Timestamp('2021-01-01 00:00:00'), Timestamp('2024-06-06 23:00:00'))"
      ]
     },
     "execution_count": 51,
     "metadata": {},
     "output_type": "execute_result"
    }
   ],
   "source": [
    "weather_data_clean.date.min(), weather_data_clean.date.max()"
   ]
  },
  {
   "cell_type": "code",
   "execution_count": 52,
   "id": "3c5f1eba",
   "metadata": {},
   "outputs": [],
   "source": [
    "load_hourly_ = load_hourly.merge(weather_data_clean, \n",
    "               how='left', on = ['date']).drop(columns=['day_y', 'month_y', 'time_y']).rename(columns={'day_x':'day',\n",
    "                                                                                                    'month_x': 'month',\n",
    "                                                                                                    'time_x':'time'})"
   ]
  },
  {
   "cell_type": "code",
   "execution_count": 53,
   "id": "d00743f5",
   "metadata": {
    "scrolled": true
   },
   "outputs": [
    {
     "data": {
      "text/plain": [
       "['date',\n",
       " 'day',\n",
       " 'month',\n",
       " 'time',\n",
       " 'flg_holiday',\n",
       " 'is_saturday',\n",
       " 'is_sunday',\n",
       " 'mwh',\n",
       " 'mwh_1_before',\n",
       " 'mwh_2_before',\n",
       " 'mwh_3_before',\n",
       " 'mwh_4_before',\n",
       " 'mwh_5_before',\n",
       " 'mwh_6_before',\n",
       " 'mwh_7_before',\n",
       " 'mwh_8_before',\n",
       " 'mwh_9_before',\n",
       " 'mwh_10_before',\n",
       " 'mwh_11_before',\n",
       " 'mwh_12_before',\n",
       " 'mwh_13_before',\n",
       " 'mwh_14_before',\n",
       " 'mwh_15_before',\n",
       " 'mwh_16_before',\n",
       " 'mwh_17_before',\n",
       " 'mwh_18_before',\n",
       " 'mwh_19_before',\n",
       " 'mwh_20_before',\n",
       " 'mwh_21_before',\n",
       " 'mwh_22_before',\n",
       " 'mwh_23_before',\n",
       " 'mwh_24_before',\n",
       " 'mwh_25_before',\n",
       " 'mwh_26_before',\n",
       " 'mwh_27_before',\n",
       " 'mwh_28_before',\n",
       " 'mwh_29_before',\n",
       " 'quant_order_1',\n",
       " 'quant_order_2',\n",
       " 'quant_order_3',\n",
       " 'quant_order_4',\n",
       " 'quant_order_5',\n",
       " 'quant_order_6',\n",
       " 'quant_order_7',\n",
       " 'quant_order_8',\n",
       " 'quant_order_9',\n",
       " 'quant_order_10',\n",
       " 'monthly_hourly_mean',\n",
       " 'temp',\n",
       " 'temp_1_before',\n",
       " 'temp_2_before',\n",
       " 'temp_3_before',\n",
       " 'temp_4_before',\n",
       " 'temp_5_before',\n",
       " 'temp_6_before',\n",
       " 'temp_7_before',\n",
       " 'temp_8_before',\n",
       " 'temp_9_before',\n",
       " 'temp_10_before',\n",
       " 'temp_11_before',\n",
       " 'temp_12_before',\n",
       " 'temp_13_before',\n",
       " 'temp_14_before']"
      ]
     },
     "execution_count": 53,
     "metadata": {},
     "output_type": "execute_result"
    }
   ],
   "source": [
    "[col for col in load_hourly_.columns]"
   ]
  },
  {
   "cell_type": "code",
   "execution_count": 54,
   "id": "e26f40b5",
   "metadata": {},
   "outputs": [
    {
     "data": {
      "text/html": [
       "<div>\n",
       "<style scoped>\n",
       "    .dataframe tbody tr th:only-of-type {\n",
       "        vertical-align: middle;\n",
       "    }\n",
       "\n",
       "    .dataframe tbody tr th {\n",
       "        vertical-align: top;\n",
       "    }\n",
       "\n",
       "    .dataframe thead th {\n",
       "        text-align: right;\n",
       "    }\n",
       "</style>\n",
       "<table border=\"1\" class=\"dataframe\">\n",
       "  <thead>\n",
       "    <tr style=\"text-align: right;\">\n",
       "      <th></th>\n",
       "      <th>mwh</th>\n",
       "      <th>temp</th>\n",
       "    </tr>\n",
       "  </thead>\n",
       "  <tbody>\n",
       "    <tr>\n",
       "      <th>mwh</th>\n",
       "      <td>1.000000</td>\n",
       "      <td>0.168407</td>\n",
       "    </tr>\n",
       "    <tr>\n",
       "      <th>temp</th>\n",
       "      <td>0.168407</td>\n",
       "      <td>1.000000</td>\n",
       "    </tr>\n",
       "  </tbody>\n",
       "</table>\n",
       "</div>"
      ],
      "text/plain": [
       "           mwh      temp\n",
       "mwh   1.000000  0.168407\n",
       "temp  0.168407  1.000000"
      ]
     },
     "execution_count": 54,
     "metadata": {},
     "output_type": "execute_result"
    }
   ],
   "source": [
    "load_hourly_[['mwh', 'temp']].corr()"
   ]
  },
  {
   "cell_type": "code",
   "execution_count": 55,
   "id": "838d8f0c",
   "metadata": {},
   "outputs": [
    {
     "data": {
      "text/plain": [
       "29324"
      ]
     },
     "execution_count": 55,
     "metadata": {},
     "output_type": "execute_result"
    }
   ],
   "source": [
    "len(load_hourly_)"
   ]
  },
  {
   "cell_type": "code",
   "execution_count": 56,
   "id": "2917e80d",
   "metadata": {},
   "outputs": [
    {
     "data": {
      "text/plain": [
       "Series([], dtype: int64)"
      ]
     },
     "execution_count": 56,
     "metadata": {},
     "output_type": "execute_result"
    }
   ],
   "source": [
    "check = load_hourly_.isna().sum()\n",
    "check[check!=0]"
   ]
  },
  {
   "cell_type": "markdown",
   "id": "e80fe8cd",
   "metadata": {},
   "source": [
    "### Create dataframe to forecast"
   ]
  },
  {
   "cell_type": "code",
   "execution_count": 57,
   "id": "7b2becbb",
   "metadata": {},
   "outputs": [
    {
     "name": "stdout",
     "output_type": "stream",
     "text": [
      "First day to predict: 2024-06-05\n",
      "Last day to predict: 2024-06-06\n"
     ]
    }
   ],
   "source": [
    "n_days_to_predict = 1\n",
    "start_pred = (load_hourly.day.max() + pd.DateOffset(days=1)).date()\n",
    "end_pred = (start_pred + pd.DateOffset(days=n_days_to_predict)).date()\n",
    "print(f'First day to predict: {start_pred}\\nLast day to predict: {end_pred}')\n",
    "\n",
    "df_to_predict = pd.DataFrame(pd.date_range(start_pred, (end_pred-pd.DateOffset(hours=1)), freq='H'), columns=['date'])\n",
    "df_to_predict['day'] = df_to_predict.date.dt.date\n",
    "df_to_predict['month'] = df_to_predict.date.dt.month\n",
    "df_to_predict['time'] = df_to_predict.date.dt.hour\n",
    "df_to_predict['flg_holiday'] = False\n",
    "it_holidays = holidays.Italy(years = load.Date.dt.year.unique()).keys()\n",
    "df_to_predict.loc[df_to_predict.day.isin(it_holidays), 'flg_holiday'] = True\n",
    "df_to_predict['week_day'] = df_to_predict.date.dt.dayofweek\n",
    "df_to_predict['is_saturday'] = False\n",
    "df_to_predict['is_sunday'] = False\n",
    "df_to_predict.loc[df_to_predict.week_day==5, 'is_saturday'] = True\n",
    "df_to_predict.loc[df_to_predict.week_day==6, 'is_sunday'] = True\n",
    "#df_to_predict.drop(columns=['week_day'], inplace=True)\n",
    "df_to_predict['mwh'] = None \n",
    "df_to_predict['temp'] = None\n",
    "\n",
    "span = range(24,24*n_lags,24)\n",
    "for i in span:\n",
    "    df_to_predict[f'mwh_{int(i/24)}_before'] = None\n",
    "span_w = range(24,24*15,24)\n",
    "for i in span_w:\n",
    "    df_to_predict[f'temp_{int(i/24)}_before'] = None"
   ]
  },
  {
   "cell_type": "code",
   "execution_count": 58,
   "id": "95bbe23a",
   "metadata": {},
   "outputs": [],
   "source": [
    "df_to_predict = df_to_predict.merge(quantiles, how='left', on=['month', 'time'])"
   ]
  },
  {
   "cell_type": "code",
   "execution_count": 59,
   "id": "5ecffafc",
   "metadata": {},
   "outputs": [
    {
     "data": {
      "text/plain": [
       "Index(['date', 'day', 'month', 'time', 'flg_holiday', 'week_day',\n",
       "       'is_saturday', 'is_sunday', 'mwh', 'temp', 'mwh_1_before',\n",
       "       'mwh_2_before', 'mwh_3_before', 'mwh_4_before', 'mwh_5_before',\n",
       "       'mwh_6_before', 'mwh_7_before', 'mwh_8_before', 'mwh_9_before',\n",
       "       'mwh_10_before', 'mwh_11_before', 'mwh_12_before', 'mwh_13_before',\n",
       "       'mwh_14_before', 'mwh_15_before', 'mwh_16_before', 'mwh_17_before',\n",
       "       'mwh_18_before', 'mwh_19_before', 'mwh_20_before', 'mwh_21_before',\n",
       "       'mwh_22_before', 'mwh_23_before', 'mwh_24_before', 'mwh_25_before',\n",
       "       'mwh_26_before', 'mwh_27_before', 'mwh_28_before', 'mwh_29_before',\n",
       "       'temp_1_before', 'temp_2_before', 'temp_3_before', 'temp_4_before',\n",
       "       'temp_5_before', 'temp_6_before', 'temp_7_before', 'temp_8_before',\n",
       "       'temp_9_before', 'temp_10_before', 'temp_11_before', 'temp_12_before',\n",
       "       'temp_13_before', 'temp_14_before', 'quant_order', 'quant_value'],\n",
       "      dtype='object')"
      ]
     },
     "execution_count": 59,
     "metadata": {},
     "output_type": "execute_result"
    }
   ],
   "source": [
    "df_to_predict.columns"
   ]
  },
  {
   "cell_type": "code",
   "execution_count": 60,
   "id": "16d1c7d3",
   "metadata": {},
   "outputs": [],
   "source": [
    "df_to_predict = df_to_predict.fillna(np.random.random()).pivot_table(index=['date', 'day', 'month', 'time', 'flg_holiday', 'week_day',\n",
    "       'is_saturday', 'is_sunday', 'mwh', 'temp', 'mwh_1_before',\n",
    "       'mwh_2_before', 'mwh_3_before', 'mwh_4_before', 'mwh_5_before',\n",
    "       'mwh_6_before', 'mwh_7_before', 'mwh_8_before', 'mwh_9_before',\n",
    "       'mwh_10_before', 'mwh_11_before', 'mwh_12_before', 'mwh_13_before',\n",
    "       'mwh_14_before', 'mwh_15_before', 'mwh_16_before', 'mwh_17_before',\n",
    "       'mwh_18_before', 'mwh_19_before', 'mwh_20_before', 'mwh_21_before',\n",
    "       'mwh_22_before', 'mwh_23_before', 'mwh_24_before', 'mwh_25_before',\n",
    "       'mwh_26_before', 'mwh_27_before', 'mwh_28_before', 'mwh_29_before',\n",
    "       'temp_1_before', 'temp_2_before', 'temp_3_before', 'temp_4_before',\n",
    "       'temp_5_before', 'temp_6_before', 'temp_7_before', 'temp_8_before',\n",
    "       'temp_9_before', 'temp_10_before', 'temp_11_before', 'temp_12_before',\n",
    "       'temp_13_before', 'temp_14_before'], columns='quant_order', values='quant_value').reset_index()\n",
    "\n",
    "df_to_predict.columns.name = None\n",
    "df_to_predict.reset_index(drop=True, inplace=True)\n",
    "\n",
    "for col in df_to_predict.columns[-10:]:\n",
    "    df_to_predict.rename(columns={col:\"quant_order_\"+str(col)}, inplace=True)"
   ]
  },
  {
   "cell_type": "code",
   "execution_count": 61,
   "id": "50b03d35",
   "metadata": {
    "scrolled": true
   },
   "outputs": [],
   "source": [
    "df_to_predict = df_to_predict.merge(month_hour_mean, how='left',on=['month','time'])"
   ]
  },
  {
   "cell_type": "code",
   "execution_count": 62,
   "id": "b745e32f",
   "metadata": {},
   "outputs": [
    {
     "data": {
      "text/plain": [
       "Index(['date', 'day', 'month', 'time', 'flg_holiday', 'week_day',\n",
       "       'is_saturday', 'is_sunday', 'mwh', 'temp', 'mwh_1_before',\n",
       "       'mwh_2_before', 'mwh_3_before', 'mwh_4_before', 'mwh_5_before',\n",
       "       'mwh_6_before', 'mwh_7_before', 'mwh_8_before', 'mwh_9_before',\n",
       "       'mwh_10_before', 'mwh_11_before', 'mwh_12_before', 'mwh_13_before',\n",
       "       'mwh_14_before', 'mwh_15_before', 'mwh_16_before', 'mwh_17_before',\n",
       "       'mwh_18_before', 'mwh_19_before', 'mwh_20_before', 'mwh_21_before',\n",
       "       'mwh_22_before', 'mwh_23_before', 'mwh_24_before', 'mwh_25_before',\n",
       "       'mwh_26_before', 'mwh_27_before', 'mwh_28_before', 'mwh_29_before',\n",
       "       'temp_1_before', 'temp_2_before', 'temp_3_before', 'temp_4_before',\n",
       "       'temp_5_before', 'temp_6_before', 'temp_7_before', 'temp_8_before',\n",
       "       'temp_9_before', 'temp_10_before', 'temp_11_before', 'temp_12_before',\n",
       "       'temp_13_before', 'temp_14_before', 'quant_order_1', 'quant_order_2',\n",
       "       'quant_order_3', 'quant_order_4', 'quant_order_5', 'quant_order_6',\n",
       "       'quant_order_7', 'quant_order_8', 'quant_order_9', 'quant_order_10',\n",
       "       'monthly_hourly_mean'],\n",
       "      dtype='object')"
      ]
     },
     "execution_count": 62,
     "metadata": {},
     "output_type": "execute_result"
    }
   ],
   "source": [
    "df_to_predict.columns"
   ]
  },
  {
   "cell_type": "code",
   "execution_count": 63,
   "id": "4bd1c61f",
   "metadata": {
    "scrolled": true
   },
   "outputs": [
    {
     "name": "stdout",
     "output_type": "stream",
     "text": [
      "Preparing 2024-06-05\n",
      "For mwh_1_before --> reference day is 2024-06-04\n",
      "For mwh_2_before --> reference day is 2024-06-03\n",
      "For mwh_3_before --> reference day is 2024-06-02\n",
      "For mwh_4_before --> reference day is 2024-06-01\n",
      "For mwh_5_before --> reference day is 2024-05-31\n",
      "For mwh_6_before --> reference day is 2024-05-30\n",
      "For mwh_7_before --> reference day is 2024-05-29\n",
      "For mwh_8_before --> reference day is 2024-05-28\n",
      "For mwh_9_before --> reference day is 2024-05-27\n",
      "For mwh_10_before --> reference day is 2024-05-26\n",
      "For mwh_11_before --> reference day is 2024-05-25\n",
      "For mwh_12_before --> reference day is 2024-05-24\n",
      "For mwh_13_before --> reference day is 2024-05-23\n",
      "For mwh_14_before --> reference day is 2024-05-22\n",
      "For mwh_15_before --> reference day is 2024-05-21\n",
      "For mwh_16_before --> reference day is 2024-05-20\n",
      "For mwh_17_before --> reference day is 2024-05-19\n",
      "For mwh_18_before --> reference day is 2024-05-18\n",
      "For mwh_19_before --> reference day is 2024-05-17\n",
      "For mwh_20_before --> reference day is 2024-05-16\n",
      "For mwh_21_before --> reference day is 2024-05-15\n",
      "For mwh_22_before --> reference day is 2024-05-14\n",
      "For mwh_23_before --> reference day is 2024-05-13\n",
      "For mwh_24_before --> reference day is 2024-05-12\n",
      "For mwh_25_before --> reference day is 2024-05-11\n",
      "For mwh_26_before --> reference day is 2024-05-10\n",
      "For mwh_27_before --> reference day is 2024-05-09\n",
      "For mwh_28_before --> reference day is 2024-05-08\n",
      "For mwh_29_before --> reference day is 2024-05-07\n",
      "Elapsed time for 2024-06-05: 5.62s \n",
      "\n"
     ]
    }
   ],
   "source": [
    "for day in range(n_days_to_predict):\n",
    "    beginning = time.time()\n",
    "    \n",
    "    day_to_forecast = pd.to_datetime(start_pred + pd.DateOffset(days=day)).date()\n",
    "    mask_day = (df_to_predict.day == day_to_forecast)\n",
    "    print(f'Preparing {day_to_forecast}')\n",
    "\n",
    "    for enumeration, col in enumerate(df_to_predict.columns[10+day:10+len([i for i in span])]): #how many days to go back in time (lags) to see the corresponding MWh produced\n",
    "        reference_day = (pd.to_datetime(load_hourly.day.max()- pd.DateOffset(days=enumeration)).date())\n",
    "        \n",
    "        print(f'For {col} --> reference day is {reference_day}')\n",
    "        \n",
    "        for hour in range(24):\n",
    "            mask_day_hour = mask_day&(df_to_predict.time==hour)\n",
    "            \n",
    "            reference_hour = (load_hourly.time == hour)\n",
    "            reference = (load_hourly.day == reference_day) & reference_hour\n",
    "            \n",
    "            if not load_hourly.loc[reference].empty:\n",
    "                df_to_predict.loc[mask_day_hour, col] = load_hourly.loc[reference, 'mwh'].values[0]\n",
    "                \n",
    "            else:\n",
    "                df_to_predict.loc[mask_day_hour, col] = 'CHECK DATA FROM TERNA' #proably missing data for corresponding reference day/hour\n",
    "                \n",
    "    termination = time.time()\n",
    "    elapsed_time = termination - beginning\n",
    "    print(f'Elapsed time for {day_to_forecast}: {elapsed_time:.2f}s \\n')"
   ]
  },
  {
   "cell_type": "code",
   "execution_count": 64,
   "id": "d46896c5",
   "metadata": {},
   "outputs": [
    {
     "name": "stdout",
     "output_type": "stream",
     "text": [
      "Preparing 2024-06-05\n",
      "For temp_1_before --> reference day is 2024-06-04\n",
      "For temp_2_before --> reference day is 2024-06-03\n",
      "For temp_3_before --> reference day is 2024-06-02\n",
      "For temp_4_before --> reference day is 2024-06-01\n",
      "For temp_5_before --> reference day is 2024-05-31\n",
      "For temp_6_before --> reference day is 2024-05-30\n",
      "For temp_7_before --> reference day is 2024-05-29\n",
      "For temp_8_before --> reference day is 2024-05-28\n",
      "For temp_9_before --> reference day is 2024-05-27\n",
      "For temp_10_before --> reference day is 2024-05-26\n",
      "For temp_11_before --> reference day is 2024-05-25\n",
      "For temp_12_before --> reference day is 2024-05-24\n",
      "For temp_13_before --> reference day is 2024-05-23\n",
      "For temp_14_before --> reference day is 2024-05-22\n",
      "Elapsed time for 2024-06-05: 2.74s \n",
      "\n"
     ]
    }
   ],
   "source": [
    "for day in range(n_days_to_predict):\n",
    "    beginning = time.time()\n",
    "    \n",
    "    day_to_forecast = pd.to_datetime(start_pred + pd.DateOffset(days=day)).date()\n",
    "    mask_day = (df_to_predict.day == day_to_forecast)\n",
    "    print(f'Preparing {day_to_forecast}')\n",
    "\n",
    "    for enumeration, col in enumerate(df_to_predict.columns[39+day:39+len([i for i in span_w])]): #how many days to go back in time (lags) to see the corresponding temperture\n",
    "        reference_day = (pd.to_datetime(load_hourly_.day.max()- pd.DateOffset(days=enumeration)).date())\n",
    "        \n",
    "        print(f'For {col} --> reference day is {reference_day}')\n",
    "        \n",
    "        for hour in range(24):\n",
    "            mask_day_hour = mask_day&(df_to_predict.time==hour)\n",
    "            \n",
    "            reference_hour = (load_hourly_.time == hour)\n",
    "            reference = (load_hourly_.day == reference_day) & reference_hour\n",
    "            \n",
    "            if not load_hourly_.loc[reference].empty:\n",
    "                df_to_predict.loc[mask_day_hour, col] = load_hourly_.loc[reference, 'temp'].values[0]\n",
    "                \n",
    "            else:\n",
    "                df_to_predict.loc[mask_day_hour, col] = 'CHECK DATA FROM TERNA' #proably missing data for corresponding reference day/hour\n",
    "                \n",
    "    termination = time.time()\n",
    "    elapsed_time = termination - beginning\n",
    "    print(f'Elapsed time for {day_to_forecast}: {elapsed_time:.2f}s \\n')"
   ]
  },
  {
   "cell_type": "code",
   "execution_count": 65,
   "id": "558ce023",
   "metadata": {
    "scrolled": true
   },
   "outputs": [
    {
     "data": {
      "text/plain": [
       "Series([], dtype: int64)"
      ]
     },
     "execution_count": 65,
     "metadata": {},
     "output_type": "execute_result"
    }
   ],
   "source": [
    "check = df_to_predict.isna().sum()\n",
    "check[check!=0]"
   ]
  },
  {
   "cell_type": "code",
   "execution_count": 66,
   "id": "58b3cdcb",
   "metadata": {},
   "outputs": [],
   "source": [
    "load_hourly_op = load_hourly_.copy()\n",
    "load_hourly_op = pd.get_dummies(load_hourly_op, columns = ['month'], prefix = 'month')\n",
    "load_hourly_op = pd.get_dummies(load_hourly_op, columns = ['time'], prefix = 'hour')\n",
    "\n",
    "df_to_predict_op = df_to_predict.copy()\n",
    "df_to_predict_op = pd.get_dummies(df_to_predict_op, columns = ['month'], prefix = 'month')\n",
    "df_to_predict_op = pd.get_dummies(df_to_predict_op, columns = ['time'], prefix = 'hour')"
   ]
  },
  {
   "cell_type": "code",
   "execution_count": 67,
   "id": "00b5867b",
   "metadata": {},
   "outputs": [
    {
     "data": {
      "text/plain": [
       "87"
      ]
     },
     "execution_count": 67,
     "metadata": {},
     "output_type": "execute_result"
    }
   ],
   "source": [
    "len(df_to_predict_op.columns)"
   ]
  },
  {
   "cell_type": "code",
   "execution_count": 68,
   "id": "4b6c6efa",
   "metadata": {},
   "outputs": [
    {
     "data": {
      "text/plain": [
       "97"
      ]
     },
     "execution_count": 68,
     "metadata": {},
     "output_type": "execute_result"
    }
   ],
   "source": [
    "len(load_hourly_op.columns)"
   ]
  },
  {
   "cell_type": "code",
   "execution_count": 69,
   "id": "575076d1",
   "metadata": {},
   "outputs": [
    {
     "name": "stdout",
     "output_type": "stream",
     "text": [
      "['month_7', 'month_11', 'month_12', 'month_10', 'month_8', 'month_2', 'month_5', 'month_1', 'month_9', 'month_3', 'month_4']\n"
     ]
    }
   ],
   "source": [
    "missing_cols = list(set(load_hourly_op.columns) - set(df_to_predict_op.columns))\n",
    "print(missing_cols)"
   ]
  },
  {
   "cell_type": "code",
   "execution_count": 70,
   "id": "634b8574",
   "metadata": {},
   "outputs": [],
   "source": [
    "for col in missing_cols:\n",
    "    df_to_predict_op[col] = False"
   ]
  },
  {
   "cell_type": "code",
   "execution_count": 71,
   "id": "33cc82c9",
   "metadata": {},
   "outputs": [],
   "source": [
    "df_to_predict_op = df_to_predict_op[load_hourly_op.columns]"
   ]
  },
  {
   "cell_type": "code",
   "execution_count": 72,
   "id": "df373257",
   "metadata": {},
   "outputs": [
    {
     "data": {
      "text/plain": [
       "((24, 97), (29324, 97))"
      ]
     },
     "execution_count": 72,
     "metadata": {},
     "output_type": "execute_result"
    }
   ],
   "source": [
    "df_to_predict_op.shape, load_hourly_op.shape"
   ]
  },
  {
   "cell_type": "markdown",
   "id": "dc6731e0",
   "metadata": {},
   "source": [
    "## Modelling"
   ]
  },
  {
   "cell_type": "code",
   "execution_count": 73,
   "id": "e1a93408",
   "metadata": {},
   "outputs": [],
   "source": [
    "n_estimators = 2000\n",
    "learning_rate = 0.01\n",
    "subsample=0.75\n",
    "max_depth=3"
   ]
  },
  {
   "cell_type": "code",
   "execution_count": 74,
   "id": "0cfa7c26",
   "metadata": {},
   "outputs": [],
   "source": [
    "import xgboost as xgb\n",
    "from sklearn.metrics import mean_squared_error, mean_absolute_percentage_error\n",
    "\n",
    "xgb_r = xgb.XGBRegressor(n_estimators = n_estimators, learning_rate = learning_rate, \n",
    "                         subsample=subsample, max_depth=max_depth, random_state=42)"
   ]
  },
  {
   "cell_type": "code",
   "execution_count": 75,
   "id": "6e6bc652",
   "metadata": {},
   "outputs": [],
   "source": [
    "load_hourly_op['day'] = pd.to_datetime(load_hourly_op.day)\n",
    "df_to_predict_op['day'] = pd.to_datetime(df_to_predict_op.day)"
   ]
  },
  {
   "cell_type": "code",
   "execution_count": 76,
   "id": "eea1cf88",
   "metadata": {},
   "outputs": [],
   "source": [
    "load_hourly_op.dropna(inplace=True)"
   ]
  },
  {
   "cell_type": "code",
   "execution_count": 77,
   "id": "8a3c63d7",
   "metadata": {},
   "outputs": [],
   "source": [
    "load_hourly_op['flg_holiday'] = load_hourly_op['flg_holiday'].astype(int)\n",
    "load_hourly_op['is_saturday'] = load_hourly_op['is_saturday'].astype(int)\n",
    "load_hourly_op['is_sunday'] = load_hourly_op['is_sunday'].astype(int)\n",
    "\n",
    "df_to_predict_op['flg_holiday'] = df_to_predict_op['flg_holiday'].astype(int)\n",
    "df_to_predict_op['is_saturday'] = df_to_predict_op['is_saturday'].astype(int)\n",
    "df_to_predict_op['is_sunday'] = df_to_predict_op['is_sunday'].astype(int)"
   ]
  },
  {
   "cell_type": "code",
   "execution_count": 78,
   "id": "c4594022",
   "metadata": {},
   "outputs": [
    {
     "data": {
      "text/plain": [
       "((29324, 97), (24, 97))"
      ]
     },
     "execution_count": 78,
     "metadata": {},
     "output_type": "execute_result"
    }
   ],
   "source": [
    "load_hourly_op.shape, df_to_predict_op.shape"
   ]
  },
  {
   "cell_type": "code",
   "execution_count": 99,
   "id": "8b541f4d",
   "metadata": {
    "scrolled": true
   },
   "outputs": [
    {
     "name": "stdout",
     "output_type": "stream",
     "text": [
      "Selecting all columns for model trainig of 2024-06-05 00:00:00, except: []\n",
      "Train and test are ready with shape:\n",
      " (29324, 93) (24, 93) (29324,)\n",
      "Finished forecast for 2024-06-05 \n",
      "\n"
     ]
    }
   ],
   "source": [
    "predictions = []\n",
    "for en, day in enumerate(df_to_predict_op.day.unique()):\n",
    "    cols_nan_mwh = load_hourly_op.columns[6:6+en]\n",
    "    cols_nan_temp = load_hourly_op.columns[47:47+en]\n",
    "    cols_nan = list(cols_nan_mwh) + list(cols_nan_mwh)\n",
    "    print(f'Selecting all columns for model trainig of {day}, except: {cols_nan}')\n",
    "    train_tmp = load_hourly_op.drop(columns = cols_nan)\n",
    "    train_tmp_x = train_tmp.drop(columns=['mwh', 'date', 'day', 'temp'])\n",
    "    train_tmp_y = train_tmp['mwh']\n",
    "    \n",
    "    test_tmp = df_to_predict_op[df_to_predict_op.day == day].drop(columns=cols_nan)\n",
    "    test_tmp_x = test_tmp.drop(columns=['mwh', 'date', 'day', 'temp'])\n",
    "    #test_tmp_x.fillna(0, inplace=True)\n",
    "    \n",
    "    cols_change_type = test_tmp_x.filter(regex='mwh_.*_before').columns\n",
    "    test_tmp_x[cols_change_type] = test_tmp_x[cols_change_type].astype(float)\n",
    "    \n",
    "    print(f'Train and test are ready with shape:\\n', train_tmp_x.shape, test_tmp_x.shape, train_tmp_y.shape)\n",
    "    \n",
    "    model_xgb_tmp = xgb_r.fit(train_tmp_x, train_tmp_y)\n",
    "    model_xgb_tmp = model_xgb_tmp.fit(train_tmp_x, train_tmp_y)\n",
    "    predictions.append(model_xgb_tmp.predict(test_tmp_x))    \n",
    "    \n",
    "    print(f'Finished forecast for {day.date()} \\n')"
   ]
  },
  {
   "cell_type": "code",
   "execution_count": 100,
   "id": "5f6fa08b",
   "metadata": {},
   "outputs": [],
   "source": [
    "predictions = pd.DataFrame(np.reshape(predictions, (n_days_to_predict*24, 1)), columns=['forecast'])"
   ]
  },
  {
   "cell_type": "code",
   "execution_count": 101,
   "id": "621864d1",
   "metadata": {
    "scrolled": true
   },
   "outputs": [],
   "source": [
    "df_to_predict['mwh'] = predictions.forecast"
   ]
  },
  {
   "cell_type": "code",
   "execution_count": 83,
   "id": "4c26fdad",
   "metadata": {},
   "outputs": [
    {
     "name": "stdout",
     "output_type": "stream",
     "text": [
      "START: 2024-06-05 - END: 2024-06-05 for Nord bidding zone\n",
      "Access token: 3dj6nq7umf4jvnm4xzhw97t4 \n",
      "\n",
      "05/06/2024 05/06/2024\n",
      "Time taken to retrieve 96 rows of load data: 6s\n"
     ]
    }
   ],
   "source": [
    "start = start_pred.strftime('%Y-%m-%d')\n",
    "end = (end_pred+pd.DateOffset(days=-1)).strftime('%Y-%m-%d')\n",
    "mini_df = get_load_data_from_TERNA(start, end, delay=3, bidding_zone='Nord')"
   ]
  },
  {
   "cell_type": "code",
   "execution_count": 84,
   "id": "81edc3d4",
   "metadata": {},
   "outputs": [
    {
     "data": {
      "text/html": [
       "<div>\n",
       "<style scoped>\n",
       "    .dataframe tbody tr th:only-of-type {\n",
       "        vertical-align: middle;\n",
       "    }\n",
       "\n",
       "    .dataframe tbody tr th {\n",
       "        vertical-align: top;\n",
       "    }\n",
       "\n",
       "    .dataframe thead th {\n",
       "        text-align: right;\n",
       "    }\n",
       "</style>\n",
       "<table border=\"1\" class=\"dataframe\">\n",
       "  <thead>\n",
       "    <tr style=\"text-align: right;\">\n",
       "      <th></th>\n",
       "      <th>day</th>\n",
       "      <th>month</th>\n",
       "      <th>time</th>\n",
       "      <th>flg_holiday</th>\n",
       "      <th>is_saturday</th>\n",
       "      <th>is_sunday</th>\n",
       "      <th>mwh</th>\n",
       "    </tr>\n",
       "  </thead>\n",
       "  <tbody>\n",
       "    <tr>\n",
       "      <th>0</th>\n",
       "      <td>2024-06-05</td>\n",
       "      <td>6</td>\n",
       "      <td>0</td>\n",
       "      <td>False</td>\n",
       "      <td>False</td>\n",
       "      <td>False</td>\n",
       "      <td>16490.87725</td>\n",
       "    </tr>\n",
       "    <tr>\n",
       "      <th>1</th>\n",
       "      <td>2024-06-05</td>\n",
       "      <td>6</td>\n",
       "      <td>1</td>\n",
       "      <td>False</td>\n",
       "      <td>False</td>\n",
       "      <td>False</td>\n",
       "      <td>15745.16625</td>\n",
       "    </tr>\n",
       "    <tr>\n",
       "      <th>2</th>\n",
       "      <td>2024-06-05</td>\n",
       "      <td>6</td>\n",
       "      <td>2</td>\n",
       "      <td>False</td>\n",
       "      <td>False</td>\n",
       "      <td>False</td>\n",
       "      <td>15298.84450</td>\n",
       "    </tr>\n",
       "    <tr>\n",
       "      <th>3</th>\n",
       "      <td>2024-06-05</td>\n",
       "      <td>6</td>\n",
       "      <td>3</td>\n",
       "      <td>False</td>\n",
       "      <td>False</td>\n",
       "      <td>False</td>\n",
       "      <td>15240.22675</td>\n",
       "    </tr>\n",
       "    <tr>\n",
       "      <th>4</th>\n",
       "      <td>2024-06-05</td>\n",
       "      <td>6</td>\n",
       "      <td>4</td>\n",
       "      <td>False</td>\n",
       "      <td>False</td>\n",
       "      <td>False</td>\n",
       "      <td>15375.03025</td>\n",
       "    </tr>\n",
       "    <tr>\n",
       "      <th>5</th>\n",
       "      <td>2024-06-05</td>\n",
       "      <td>6</td>\n",
       "      <td>5</td>\n",
       "      <td>False</td>\n",
       "      <td>False</td>\n",
       "      <td>False</td>\n",
       "      <td>15875.03925</td>\n",
       "    </tr>\n",
       "    <tr>\n",
       "      <th>6</th>\n",
       "      <td>2024-06-05</td>\n",
       "      <td>6</td>\n",
       "      <td>6</td>\n",
       "      <td>False</td>\n",
       "      <td>False</td>\n",
       "      <td>False</td>\n",
       "      <td>18572.39825</td>\n",
       "    </tr>\n",
       "    <tr>\n",
       "      <th>7</th>\n",
       "      <td>2024-06-05</td>\n",
       "      <td>6</td>\n",
       "      <td>7</td>\n",
       "      <td>False</td>\n",
       "      <td>False</td>\n",
       "      <td>False</td>\n",
       "      <td>21826.40850</td>\n",
       "    </tr>\n",
       "    <tr>\n",
       "      <th>8</th>\n",
       "      <td>2024-06-05</td>\n",
       "      <td>6</td>\n",
       "      <td>8</td>\n",
       "      <td>False</td>\n",
       "      <td>False</td>\n",
       "      <td>False</td>\n",
       "      <td>24339.52175</td>\n",
       "    </tr>\n",
       "    <tr>\n",
       "      <th>9</th>\n",
       "      <td>2024-06-05</td>\n",
       "      <td>6</td>\n",
       "      <td>9</td>\n",
       "      <td>False</td>\n",
       "      <td>False</td>\n",
       "      <td>False</td>\n",
       "      <td>25123.07450</td>\n",
       "    </tr>\n",
       "    <tr>\n",
       "      <th>10</th>\n",
       "      <td>2024-06-05</td>\n",
       "      <td>6</td>\n",
       "      <td>10</td>\n",
       "      <td>False</td>\n",
       "      <td>False</td>\n",
       "      <td>False</td>\n",
       "      <td>25233.31800</td>\n",
       "    </tr>\n",
       "    <tr>\n",
       "      <th>11</th>\n",
       "      <td>2024-06-05</td>\n",
       "      <td>6</td>\n",
       "      <td>11</td>\n",
       "      <td>False</td>\n",
       "      <td>False</td>\n",
       "      <td>False</td>\n",
       "      <td>25305.85250</td>\n",
       "    </tr>\n",
       "    <tr>\n",
       "      <th>12</th>\n",
       "      <td>2024-06-05</td>\n",
       "      <td>6</td>\n",
       "      <td>12</td>\n",
       "      <td>False</td>\n",
       "      <td>False</td>\n",
       "      <td>False</td>\n",
       "      <td>24051.73650</td>\n",
       "    </tr>\n",
       "    <tr>\n",
       "      <th>13</th>\n",
       "      <td>2024-06-05</td>\n",
       "      <td>6</td>\n",
       "      <td>13</td>\n",
       "      <td>False</td>\n",
       "      <td>False</td>\n",
       "      <td>False</td>\n",
       "      <td>24329.13600</td>\n",
       "    </tr>\n",
       "    <tr>\n",
       "      <th>14</th>\n",
       "      <td>2024-06-05</td>\n",
       "      <td>6</td>\n",
       "      <td>14</td>\n",
       "      <td>False</td>\n",
       "      <td>False</td>\n",
       "      <td>False</td>\n",
       "      <td>24824.06950</td>\n",
       "    </tr>\n",
       "    <tr>\n",
       "      <th>15</th>\n",
       "      <td>2024-06-05</td>\n",
       "      <td>6</td>\n",
       "      <td>15</td>\n",
       "      <td>False</td>\n",
       "      <td>False</td>\n",
       "      <td>False</td>\n",
       "      <td>24786.92100</td>\n",
       "    </tr>\n",
       "    <tr>\n",
       "      <th>16</th>\n",
       "      <td>2024-06-05</td>\n",
       "      <td>6</td>\n",
       "      <td>16</td>\n",
       "      <td>False</td>\n",
       "      <td>False</td>\n",
       "      <td>False</td>\n",
       "      <td>24677.95100</td>\n",
       "    </tr>\n",
       "    <tr>\n",
       "      <th>17</th>\n",
       "      <td>2024-06-05</td>\n",
       "      <td>6</td>\n",
       "      <td>17</td>\n",
       "      <td>False</td>\n",
       "      <td>False</td>\n",
       "      <td>False</td>\n",
       "      <td>24080.69550</td>\n",
       "    </tr>\n",
       "    <tr>\n",
       "      <th>18</th>\n",
       "      <td>2024-06-05</td>\n",
       "      <td>6</td>\n",
       "      <td>18</td>\n",
       "      <td>False</td>\n",
       "      <td>False</td>\n",
       "      <td>False</td>\n",
       "      <td>23530.10350</td>\n",
       "    </tr>\n",
       "    <tr>\n",
       "      <th>19</th>\n",
       "      <td>2024-06-05</td>\n",
       "      <td>6</td>\n",
       "      <td>19</td>\n",
       "      <td>False</td>\n",
       "      <td>False</td>\n",
       "      <td>False</td>\n",
       "      <td>23339.10825</td>\n",
       "    </tr>\n",
       "    <tr>\n",
       "      <th>20</th>\n",
       "      <td>2024-06-05</td>\n",
       "      <td>6</td>\n",
       "      <td>20</td>\n",
       "      <td>False</td>\n",
       "      <td>False</td>\n",
       "      <td>False</td>\n",
       "      <td>22779.75650</td>\n",
       "    </tr>\n",
       "    <tr>\n",
       "      <th>21</th>\n",
       "      <td>2024-06-05</td>\n",
       "      <td>6</td>\n",
       "      <td>21</td>\n",
       "      <td>False</td>\n",
       "      <td>False</td>\n",
       "      <td>False</td>\n",
       "      <td>22104.56075</td>\n",
       "    </tr>\n",
       "    <tr>\n",
       "      <th>22</th>\n",
       "      <td>2024-06-05</td>\n",
       "      <td>6</td>\n",
       "      <td>22</td>\n",
       "      <td>False</td>\n",
       "      <td>False</td>\n",
       "      <td>False</td>\n",
       "      <td>20490.85950</td>\n",
       "    </tr>\n",
       "    <tr>\n",
       "      <th>23</th>\n",
       "      <td>2024-06-05</td>\n",
       "      <td>6</td>\n",
       "      <td>23</td>\n",
       "      <td>False</td>\n",
       "      <td>False</td>\n",
       "      <td>False</td>\n",
       "      <td>18758.67725</td>\n",
       "    </tr>\n",
       "  </tbody>\n",
       "</table>\n",
       "</div>"
      ],
      "text/plain": [
       "           day  month  time  flg_holiday  is_saturday  is_sunday          mwh\n",
       "0   2024-06-05      6     0        False        False      False  16490.87725\n",
       "1   2024-06-05      6     1        False        False      False  15745.16625\n",
       "2   2024-06-05      6     2        False        False      False  15298.84450\n",
       "3   2024-06-05      6     3        False        False      False  15240.22675\n",
       "4   2024-06-05      6     4        False        False      False  15375.03025\n",
       "5   2024-06-05      6     5        False        False      False  15875.03925\n",
       "6   2024-06-05      6     6        False        False      False  18572.39825\n",
       "7   2024-06-05      6     7        False        False      False  21826.40850\n",
       "8   2024-06-05      6     8        False        False      False  24339.52175\n",
       "9   2024-06-05      6     9        False        False      False  25123.07450\n",
       "10  2024-06-05      6    10        False        False      False  25233.31800\n",
       "11  2024-06-05      6    11        False        False      False  25305.85250\n",
       "12  2024-06-05      6    12        False        False      False  24051.73650\n",
       "13  2024-06-05      6    13        False        False      False  24329.13600\n",
       "14  2024-06-05      6    14        False        False      False  24824.06950\n",
       "15  2024-06-05      6    15        False        False      False  24786.92100\n",
       "16  2024-06-05      6    16        False        False      False  24677.95100\n",
       "17  2024-06-05      6    17        False        False      False  24080.69550\n",
       "18  2024-06-05      6    18        False        False      False  23530.10350\n",
       "19  2024-06-05      6    19        False        False      False  23339.10825\n",
       "20  2024-06-05      6    20        False        False      False  22779.75650\n",
       "21  2024-06-05      6    21        False        False      False  22104.56075\n",
       "22  2024-06-05      6    22        False        False      False  20490.85950\n",
       "23  2024-06-05      6    23        False        False      False  18758.67725"
      ]
     },
     "execution_count": 84,
     "metadata": {},
     "output_type": "execute_result"
    }
   ],
   "source": [
    "mini_df\n",
    "\n",
    "mini_df.dropna(inplace=True)\n",
    "mini_df['Date'] = pd.to_datetime(mini_df['Date'])\n",
    "mini_df.rename(columns={'Total_Load_MW':'mw', 'Bidding_Zone':'area'}, inplace=True)\n",
    "\n",
    "mini_df['mw'] = mini_df.mw.astype('float')\n",
    "mini_df['mwh'] = mini_df.mw/4\n",
    "\n",
    "mini_df.drop(columns=['Forecast_Total_Load_MW', 'mw'], inplace=True)\n",
    "mini_df['month'] = mini_df['Date'].dt.month\n",
    "mini_df['time'] = mini_df['Date'].dt.hour\n",
    "mini_df['day'] = mini_df['Date'].dt.date\n",
    "\n",
    "mini_df['day_of_week'] = mini_df.Date.dt.dayofweek\n",
    "mini_df['is_saturday'] = False\n",
    "mini_df.loc[mini_df.day_of_week==5, 'is_saturday'] = True \n",
    "mini_df['is_sunday'] = False\n",
    "mini_df.loc[mini_df.day_of_week==6, 'is_sunday'] = True \n",
    "\n",
    "mini_df['flg_holiday'] = False\n",
    "mini_df.loc[mini_df.day.isin(it_holidays), 'flg_holiday'] = True\n",
    "\n",
    "mini_df_hourly = mini_df.groupby(['day', 'month', 'time', 'flg_holiday', 'is_saturday', 'is_sunday']).mwh.sum().reset_index()"
   ]
  },
  {
   "cell_type": "code",
   "execution_count": 120,
   "id": "8f259979",
   "metadata": {},
   "outputs": [
    {
     "data": {
      "image/png": "[encoded data removed]",
      "text/plain": [
       "<Figure size 1300x500 with 1 Axes>"
      ]
     },
     "metadata": {},
     "output_type": "display_data"
    }
   ],
   "source": [
    "plt.figure(figsize=(13,5))\n",
    "\n",
    "len_df = pd.date_range(pd.to_datetime(start), pd.to_datetime(end)+pd.DateOffset(hour=23), freq='H')\n",
    "\n",
    "plt.plot(len_df, mini_df_hourly.mwh, label='Actual', color = 'g', marker = 'o', alpha = .5)\n",
    "plt.plot(len_df, df_to_predict.mwh, label='Forecast', color = 'b', marker = 'o', alpha = .5)\n",
    "\n",
    "plt.title(f'Day ahead load forecast ({bidding_zone}): {end}', fontsize=14)\n",
    "plt.legend(loc=(0.7,0.05))\n",
    "plt.xlabel('Time', fontsize=12)\n",
    "plt.ylabel('MWh', fontsize=12)\n",
    "plt.show()"
   ]
  },
  {
   "cell_type": "code",
   "execution_count": 113,
   "id": "4ef7c13f",
   "metadata": {},
   "outputs": [
    {
     "name": "stdout",
     "output_type": "stream",
     "text": [
      "RMSE: 465.7; MAPE: 2.02722105953686%\n"
     ]
    }
   ],
   "source": [
    "mse = mean_squared_error(mini_df_hourly.mwh, df_to_predict.mwh)\n",
    "rmse = np.sqrt(mse)\n",
    "mape = mean_absolute_percentage_error(mini_df_hourly.mwh, df_to_predict.mwh)\n",
    "print(f'RMSE: {round(rmse,1)}; MAPE: {mape*100}%')"
   ]
  },
  {
   "cell_type": "code",
   "execution_count": null,
   "id": "4d3fd0f7",
   "metadata": {},
   "outputs": [],
   "source": []
  }
 ],
 "metadata": {
  "kernelspec": {
   "display_name": "Python 3 (ipykernel)",
   "language": "python",
   "name": "python3"
  },
  "language_info": {
   "codemirror_mode": {
    "name": "ipython",
    "version": 3
   },
   "file_extension": ".py",
   "mimetype": "text/x-python",
   "name": "python",
   "nbconvert_exporter": "python",
   "pygments_lexer": "ipython3",
   "version": "3.9.13"
  }
 },
 "nbformat": 4,
 "nbformat_minor": 5
}
